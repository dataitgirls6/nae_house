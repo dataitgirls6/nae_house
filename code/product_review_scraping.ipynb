{
 "cells": [
  {
   "cell_type": "code",
   "execution_count": null,
   "metadata": {},
   "outputs": [],
   "source": [
    "from selenium import webdriver\n",
    "from selenium.webdriver.chrome.service import Service\n",
    "from webdriver_manager.chrome import ChromeDriverManager\n",
    "from selenium.webdriver.common.by import By\n",
    "from bs4 import BeautifulSoup as BS\n",
    "import pandas as pd\n",
    "from IPython.display import display\n",
    "import time\n",
    "import warnings\n",
    "from selenium.webdriver.common.keys import Keys\n",
    "import re"
   ]
  },
  {
   "cell_type": "markdown",
   "metadata": {},
   "source": [
    "- 김민지 [0:229]\n",
    "- 박유정 [229:458]\n",
    "- 송나현 [458:687]\n",
    "- 이소현 [687:916]\n",
    "- 최수연 [916:1145]"
   ]
  },
  {
   "cell_type": "code",
   "execution_count": null,
   "metadata": {},
   "outputs": [],
   "source": [
    "start = # 본인의 시작점 입력\n",
    "end = # 본인의 종료지점 입력"
   ]
  },
  {
   "cell_type": "code",
   "execution_count": null,
   "metadata": {},
   "outputs": [],
   "source": [
    "df1 = pd.read_csv('review_candidates.csv')\n",
    "df1 = df1[start:end]\n",
    "df1"
   ]
  },
  {
   "cell_type": "code",
   "execution_count": null,
   "metadata": {},
   "outputs": [],
   "source": [
    "prd_review = pd.DataFrame(columns = ['상품url', '상품명', '분위기', '별점', '리뷰'])\n",
    "prd_review"
   ]
  },
  {
   "cell_type": "code",
   "execution_count": null,
   "metadata": {},
   "outputs": [],
   "source": [
    "warnings.filterwarnings(action='ignore')\n",
    "\n",
    "chrome_options = webdriver.ChromeOptions()\n",
    "driver = webdriver.Chrome(service=Service(ChromeDriverManager().install()), options = chrome_options)\n",
    "driver.implicitly_wait(3)\n",
    "\n",
    "for idx in df1.index:\n",
    "    driver.get(df1['상품url'].loc[idx])\n",
    "\n",
    "    # 최신순 정렬 클릭\n",
    "    driver.find_element(By.XPATH, '/html/body/div[1]/div/div/div[2]/div[5]/div/div[1]/div/section[2]/div/div[2]/div/div/div[1]/button[2]').click() \n",
    "    time.sleep(2)\n",
    "\n",
    "    review_list = []\n",
    "    rating_list = []\n",
    "\n",
    "    for _ in range(20):\n",
    "\n",
    "        reviews = driver.find_elements(By.CLASS_NAME, 'production-review-item__description') #리뷰 선택\n",
    "        stars = driver.find_elements(By.CLASS_NAME, 'production-review-item__writer__info__total-star') #평점 선택\n",
    "\n",
    "        for review, star in zip(reviews, stars) :\n",
    "            star = star.get_attribute('aria-label')\n",
    "            star = float(re.sub(r'[^0-9,.]', '', star))\n",
    "            \n",
    "            add_row = pd.DataFrame([{'상품url' : df1['상품url'].loc[idx], \n",
    "                                     '상품명' : df1['상품명'].loc[idx],\n",
    "                                     '분위기' : df1['분위기'].loc[idx],\n",
    "                                     '별점' : star,\n",
    "                                     '리뷰' : review.text.strip()}])\n",
    "            prd_review = prd_review.append(add_row)\n",
    "            \n",
    "        driver.find_element(By.XPATH, '/html/body/div[1]/div/div/div[2]/div[5]/div/div[1]/div/section[2]/div/ul/li[11]/button').click()\n",
    "        time.sleep(2)           \n",
    "\n",
    "    prd_review.to_csv(f'prd_review_{start}_{idx}.csv', index = False)\n",
    "    print(idx)\n",
    "        \n",
    "driver.close()"
   ]
  }
 ],
 "metadata": {
  "kernelspec": {
   "display_name": "Python 3",
   "language": "python",
   "name": "python3"
  },
  "language_info": {
   "codemirror_mode": {
    "name": "ipython",
    "version": 3
   },
   "file_extension": ".py",
   "mimetype": "text/x-python",
   "name": "python",
   "nbconvert_exporter": "python",
   "pygments_lexer": "ipython3",
   "version": "3.8.5"
  },
  "vscode": {
   "interpreter": {
    "hash": "7812ea015bdcee6f23a998adcdd2ef97c151c0c241b7b7070987d9313e41299d"
   }
  }
 },
 "nbformat": 4,
 "nbformat_minor": 4
}
