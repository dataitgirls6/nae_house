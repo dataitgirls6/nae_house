{
 "cells": [
  {
   "cell_type": "code",
   "execution_count": 16,
   "id": "d90749dd",
   "metadata": {},
   "outputs": [],
   "source": [
    "import pandas as pd\n",
    "\n",
    "df1 = pd.read_csv(\"0_700.csv\")\n",
    "df2 = pd.read_csv(\"700-1399.csv\")\n",
    "df3 = pd.read_csv(\"1400-2100.csv\")\n",
    "df4 = pd.read_csv(\"2100-2698.csv\")\n",
    "df5 = pd.read_csv(\"2699-4199.csv\")\n",
    "df6 = pd.read_csv(\"4200_4900.csv\")"
   ]
  },
  {
   "cell_type": "code",
   "execution_count": 2,
   "id": "d800c656",
   "metadata": {},
   "outputs": [
    {
     "data": {
      "text/plain": [
       "0        1일 전\n",
       "1        1일 전\n",
       "2        1일 전\n",
       "3        1일 전\n",
       "4        2일 전\n",
       "        ...  \n",
       "695    06. 14\n",
       "696    06. 14\n",
       "697    06. 14\n",
       "698    06. 13\n",
       "699    06. 13\n",
       "Name: 작성일자, Length: 700, dtype: object"
      ]
     },
     "execution_count": 2,
     "metadata": {},
     "output_type": "execute_result"
    }
   ],
   "source": [
    "df1['작성일자']"
   ]
  },
  {
   "cell_type": "markdown",
   "id": "51b7a6fb",
   "metadata": {},
   "source": [
    "## ■ 날짜 전처리"
   ]
  },
  {
   "cell_type": "markdown",
   "id": "ed007b57",
   "metadata": {},
   "source": [
    "### ● 최신글 : 0-700 날짜외 표시되는 작성일자 전처리 함수"
   ]
  },
  {
   "cell_type": "markdown",
   "id": "86e67a9b",
   "metadata": {},
   "source": [
    "### > func1 : datefix(x)"
   ]
  },
  {
   "cell_type": "code",
   "execution_count": 3,
   "id": "b5bf41ec",
   "metadata": {},
   "outputs": [],
   "source": [
    "# 날짜 외 표시되는 함수 → 특정 일자로 지정해주는 함수\n",
    "def datefix(x):\n",
    "    if x in ['1일 전', '2일 전', '3일 전', '4일 전', '5일 전', '6일 전']:\n",
    "        return '22.10.07'\n",
    "    elif x == '1주 전':\n",
    "        return '22.10.01'\n",
    "    elif x == '2주 전':\n",
    "        return '22.09.24'\n",
    "    elif x == '3주 전':\n",
    "        return '22.09.17'\n",
    "    else:\n",
    "        return x"
   ]
  },
  {
   "cell_type": "markdown",
   "id": "44603684",
   "metadata": {},
   "source": [
    "### > func2 : plusyear(x)"
   ]
  },
  {
   "cell_type": "code",
   "execution_count": 4,
   "id": "b5ec11b7",
   "metadata": {},
   "outputs": [],
   "source": [
    "# 날짜 개수로 문자수 6미만인 경우, '연도없음'으로 판단. 연도 붙여주는 함수\n",
    "# 0-700 데이터인 경우 해당\n",
    "\n",
    "def plusyear(x):\n",
    "    if len(x.replace(' ','')) <= 6:\n",
    "        return '2022.'+x\n",
    "    elif len(x.replace(' ','')) >= 8:\n",
    "        return '20' +x\n",
    "    else:\n",
    "        return x.replace(' ','')"
   ]
  },
  {
   "cell_type": "markdown",
   "id": "fb0c8c24",
   "metadata": {},
   "source": [
    "#### --------------------------------------------------------------------------------------------------------------------------------------------------------------------------------------"
   ]
  },
  {
   "cell_type": "code",
   "execution_count": 18,
   "id": "a8a711e6",
   "metadata": {},
   "outputs": [
    {
     "data": {
      "text/plain": [
       "0      2022.10.07\n",
       "1      2022.10.07\n",
       "2      2022.10.07\n",
       "3      2022.10.07\n",
       "4      2022.10.07\n",
       "          ...    \n",
       "695    2022.06.14\n",
       "696    2022.06.14\n",
       "697    2022.06.14\n",
       "698    2022.06.13\n",
       "699    2022.06.13\n",
       "Name: 작성일자, Length: 700, dtype: object"
      ]
     },
     "execution_count": 18,
     "metadata": {},
     "output_type": "execute_result"
    }
   ],
   "source": [
    "# 0-700 (제일 최신글) 작성일자 변경\n",
    "df1['작성일자'] = df1['작성일자'].apply(datefix)\n",
    "df1['작성일자'] = df1['작성일자'].apply(plusyear)\n",
    "df1['작성일자'] = df1['작성일자'].apply(lambda x: x.replace(' ',''))\n",
    "df1['작성일자']"
   ]
  },
  {
   "cell_type": "code",
   "execution_count": 20,
   "id": "7311e1d9",
   "metadata": {},
   "outputs": [
    {
     "data": {
      "text/plain": [
       "0      2022.06. 13\n",
       "1      2022.06. 13\n",
       "2      2022.06. 12\n",
       "3      2022.06. 12\n",
       "4      2022.06. 12\n",
       "          ...     \n",
       "695    2022.02. 13\n",
       "696    2022.02. 13\n",
       "697    2022.02. 13\n",
       "698    2022.02. 13\n",
       "699    2022.02. 12\n",
       "Name: 작성일자, Length: 700, dtype: object"
      ]
     },
     "execution_count": 20,
     "metadata": {},
     "output_type": "execute_result"
    }
   ],
   "source": [
    "df2['작성일자'] = df2['작성일자'].apply(plusyear)\n",
    "df2['작성일자']"
   ]
  },
  {
   "cell_type": "code",
   "execution_count": 22,
   "id": "d651eb17",
   "metadata": {},
   "outputs": [
    {
     "data": {
      "text/plain": [
       "0       2022.02. 12\n",
       "1       2022.02. 12\n",
       "2       2022.02. 12\n",
       "3       2022.02. 12\n",
       "4       2022.02. 12\n",
       "           ...     \n",
       "695    2021. 09. 28\n",
       "696    2021. 09. 28\n",
       "697    2021. 09. 28\n",
       "698    2021. 09. 27\n",
       "699    2021. 09. 27\n",
       "Name: 작성일자, Length: 700, dtype: object"
      ]
     },
     "execution_count": 22,
     "metadata": {},
     "output_type": "execute_result"
    }
   ],
   "source": [
    "df3['작성일자'] = df3['작성일자'].apply(plusyear)\n",
    "df3['작성일자']"
   ]
  },
  {
   "cell_type": "code",
   "execution_count": 23,
   "id": "d20546b6",
   "metadata": {},
   "outputs": [
    {
     "data": {
      "text/plain": [
       "0      2021. 09. 27\n",
       "1      2021. 09. 27\n",
       "2      2021. 09. 27\n",
       "3      2021. 09. 27\n",
       "4      2021. 09. 27\n",
       "           ...     \n",
       "594    2021. 05. 17\n",
       "595    2021. 05. 17\n",
       "596    2021. 05. 17\n",
       "597    2021. 05. 17\n",
       "598    2021. 05. 17\n",
       "Name: 작성일자, Length: 599, dtype: object"
      ]
     },
     "execution_count": 23,
     "metadata": {},
     "output_type": "execute_result"
    }
   ],
   "source": [
    "df4['작성일자'] = df4['작성일자'].apply(plusyear)\n",
    "df4['작성일자']"
   ]
  },
  {
   "cell_type": "code",
   "execution_count": 24,
   "id": "d84b78fb",
   "metadata": {},
   "outputs": [
    {
     "data": {
      "text/plain": [
       "0       2021. 05. 17\n",
       "1       2021. 05. 15\n",
       "2       2021. 05. 15\n",
       "3       2021. 05. 15\n",
       "4       2021. 05. 15\n",
       "            ...     \n",
       "1496    2020. 05. 17\n",
       "1497    2020. 05. 17\n",
       "1498    2020. 05. 17\n",
       "1499    2020. 05. 16\n",
       "1500    2020. 05. 16\n",
       "Name: 작성일자, Length: 1501, dtype: object"
      ]
     },
     "execution_count": 24,
     "metadata": {},
     "output_type": "execute_result"
    }
   ],
   "source": [
    "df5['작성일자'] = df5['작성일자'].apply(plusyear)\n",
    "df5['작성일자']"
   ]
  },
  {
   "cell_type": "code",
   "execution_count": 25,
   "id": "8f182f07",
   "metadata": {},
   "outputs": [
    {
     "data": {
      "text/plain": [
       "0      2020. 05. 16\n",
       "1      2020. 05. 15\n",
       "2      2020. 05. 15\n",
       "3      2020. 05. 15\n",
       "4      2020. 05. 15\n",
       "           ...     \n",
       "695    2019. 10. 27\n",
       "696    2019. 10. 26\n",
       "697    2019. 10. 26\n",
       "698    2019. 10. 26\n",
       "699    2019. 10. 26\n",
       "Name: 작성일자, Length: 700, dtype: object"
      ]
     },
     "execution_count": 25,
     "metadata": {},
     "output_type": "execute_result"
    }
   ],
   "source": [
    "df6['작성일자'] = df6['작성일자'].apply(plusyear)\n",
    "df6['작성일자']"
   ]
  },
  {
   "cell_type": "markdown",
   "id": "3287dfdc",
   "metadata": {},
   "source": [
    "###### -----------------------------------------------------------------------------------------------------------------------------------------------------------------------------------------------------"
   ]
  },
  {
   "cell_type": "code",
   "execution_count": 26,
   "id": "59fce1b3",
   "metadata": {},
   "outputs": [
    {
     "name": "stdout",
     "output_type": "stream",
     "text": [
      "<class 'pandas.core.frame.DataFrame'>\n",
      "Int64Index: 4900 entries, 0 to 699\n",
      "Data columns (total 17 columns):\n",
      " #   Column      Non-Null Count  Dtype \n",
      "---  ------      --------------  ----- \n",
      " 0   Unnamed: 0  4900 non-null   int64 \n",
      " 1   url         4900 non-null   object\n",
      " 2   제목          4900 non-null   object\n",
      " 3   작성일자        4900 non-null   object\n",
      " 4   평수          4900 non-null   object\n",
      " 5   가족형태        4900 non-null   object\n",
      " 6   공간          4900 non-null   object\n",
      " 7   스타일         4900 non-null   object\n",
      " 8   세부공사        4900 non-null   object\n",
      " 9   작업          4900 non-null   object\n",
      " 10  지역          4900 non-null   object\n",
      " 11  분야          4900 non-null   object\n",
      " 12  예산          4900 non-null   object\n",
      " 13  스크랩         4900 non-null   object\n",
      " 14  좋아요         4900 non-null   object\n",
      " 15  댓글          4900 non-null   int64 \n",
      " 16  조회          4900 non-null   object\n",
      "dtypes: int64(2), object(15)\n",
      "memory usage: 689.1+ KB\n"
     ]
    }
   ],
   "source": [
    "# 스크래핑된 데이터 병합\n",
    "import pandas as pd\n",
    "\n",
    "df = pd.concat([df1, df2, df3, df4, df5, df6])\n",
    "df.info()"
   ]
  },
  {
   "cell_type": "code",
   "execution_count": 27,
   "id": "02d6943e",
   "metadata": {},
   "outputs": [
    {
     "data": {
      "text/plain": [
       "Unnamed: 0    4900\n",
       "url           4900\n",
       "제목            4900\n",
       "작성일자          4900\n",
       "평수            4900\n",
       "가족형태          4900\n",
       "공간            4900\n",
       "스타일           4900\n",
       "세부공사          4900\n",
       "작업            4900\n",
       "지역            4900\n",
       "분야            4900\n",
       "예산            4900\n",
       "스크랩           4900\n",
       "좋아요           4900\n",
       "댓글            4900\n",
       "조회            4900\n",
       "dtype: int64"
      ]
     },
     "execution_count": 27,
     "metadata": {},
     "output_type": "execute_result"
    }
   ],
   "source": [
    "df.count()"
   ]
  },
  {
   "cell_type": "code",
   "execution_count": 28,
   "id": "282774d0",
   "metadata": {},
   "outputs": [
    {
     "data": {
      "text/html": [
       "<div>\n",
       "<style scoped>\n",
       "    .dataframe tbody tr th:only-of-type {\n",
       "        vertical-align: middle;\n",
       "    }\n",
       "\n",
       "    .dataframe tbody tr th {\n",
       "        vertical-align: top;\n",
       "    }\n",
       "\n",
       "    .dataframe thead th {\n",
       "        text-align: right;\n",
       "    }\n",
       "</style>\n",
       "<table border=\"1\" class=\"dataframe\">\n",
       "  <thead>\n",
       "    <tr style=\"text-align: right;\">\n",
       "      <th></th>\n",
       "      <th>Unnamed: 0</th>\n",
       "      <th>url</th>\n",
       "      <th>제목</th>\n",
       "      <th>작성일자</th>\n",
       "      <th>평수</th>\n",
       "      <th>가족형태</th>\n",
       "      <th>공간</th>\n",
       "      <th>스타일</th>\n",
       "      <th>세부공사</th>\n",
       "      <th>작업</th>\n",
       "      <th>지역</th>\n",
       "      <th>분야</th>\n",
       "      <th>예산</th>\n",
       "      <th>스크랩</th>\n",
       "      <th>좋아요</th>\n",
       "      <th>댓글</th>\n",
       "      <th>조회</th>\n",
       "    </tr>\n",
       "  </thead>\n",
       "  <tbody>\n",
       "    <tr>\n",
       "      <th>0</th>\n",
       "      <td>0</td>\n",
       "      <td>https://ohou.se/projects/126917/detail?affect_...</td>\n",
       "      <td>서재형 거실부터 베란다 아뜰리에까지! 센스만점 오베네홈</td>\n",
       "      <td>2022.10.07</td>\n",
       "      <td>34평</td>\n",
       "      <td>아기가 있는 집</td>\n",
       "      <td>아파트</td>\n",
       "      <td>내추럴</td>\n",
       "      <td>0</td>\n",
       "      <td>전문가</td>\n",
       "      <td>0</td>\n",
       "      <td>리모델링</td>\n",
       "      <td>0</td>\n",
       "      <td>136</td>\n",
       "      <td>57</td>\n",
       "      <td>15</td>\n",
       "      <td>10,513</td>\n",
       "    </tr>\n",
       "    <tr>\n",
       "      <th>1</th>\n",
       "      <td>1</td>\n",
       "      <td>https://ohou.se/projects/126600/detail?affect_...</td>\n",
       "      <td>구축 2Bay 리모델링의 바이블, 모던한 32평 신혼집</td>\n",
       "      <td>2022.10.07</td>\n",
       "      <td>32평</td>\n",
       "      <td>신혼부부</td>\n",
       "      <td>아파트</td>\n",
       "      <td>모던</td>\n",
       "      <td>주방리모델링, 조명시공, 중문, 가벽&amp;파티션, 슬라이딩도어</td>\n",
       "      <td>전문가</td>\n",
       "      <td>전라북도 전주시</td>\n",
       "      <td>리모델링</td>\n",
       "      <td>4,200만원</td>\n",
       "      <td>75</td>\n",
       "      <td>26</td>\n",
       "      <td>12</td>\n",
       "      <td>5,610</td>\n",
       "    </tr>\n",
       "    <tr>\n",
       "      <th>2</th>\n",
       "      <td>2</td>\n",
       "      <td>https://ohou.se/projects/123056/detail?affect_...</td>\n",
       "      <td>취향을 읽고 쓰는 비밀 서재처럼- 푸릇푸릇 3평 방</td>\n",
       "      <td>2022.10.07</td>\n",
       "      <td>3평</td>\n",
       "      <td>부모님과 함께 사는 집</td>\n",
       "      <td>기타</td>\n",
       "      <td>내추럴</td>\n",
       "      <td>0</td>\n",
       "      <td>셀프•DIY</td>\n",
       "      <td>경상남도 김해시</td>\n",
       "      <td>홈스타일링</td>\n",
       "      <td>0</td>\n",
       "      <td>201</td>\n",
       "      <td>60</td>\n",
       "      <td>15</td>\n",
       "      <td>4,214</td>\n",
       "    </tr>\n",
       "    <tr>\n",
       "      <th>3</th>\n",
       "      <td>3</td>\n",
       "      <td>https://ohou.se/projects/116945/detail?affect_...</td>\n",
       "      <td>손 뻗으면 닿을 듯한 녹음🌳 싱그러운 저층집 리모델링</td>\n",
       "      <td>2022.10.07</td>\n",
       "      <td>32평</td>\n",
       "      <td>신혼부부</td>\n",
       "      <td>아파트</td>\n",
       "      <td>모던</td>\n",
       "      <td>주방리모델링, 조명시공, 중문</td>\n",
       "      <td>전문가</td>\n",
       "      <td>대전광역시 유성구</td>\n",
       "      <td>리모델링</td>\n",
       "      <td>5,500만원</td>\n",
       "      <td>643</td>\n",
       "      <td>169</td>\n",
       "      <td>122</td>\n",
       "      <td>37,375</td>\n",
       "    </tr>\n",
       "    <tr>\n",
       "      <th>4</th>\n",
       "      <td>4</td>\n",
       "      <td>https://ohou.se/projects/127436/detail?affect_...</td>\n",
       "      <td>아늑하고 편안한 무드로- 빈티지 한 스푼 더한 내추럴홈</td>\n",
       "      <td>2022.10.07</td>\n",
       "      <td>57평</td>\n",
       "      <td>신혼부부</td>\n",
       "      <td>아파트</td>\n",
       "      <td>내추럴</td>\n",
       "      <td>주방리모델링, 중문</td>\n",
       "      <td>전문가</td>\n",
       "      <td>충청북도 청주시</td>\n",
       "      <td>리모델링</td>\n",
       "      <td>9,500만원</td>\n",
       "      <td>73</td>\n",
       "      <td>13</td>\n",
       "      <td>9</td>\n",
       "      <td>3,760</td>\n",
       "    </tr>\n",
       "  </tbody>\n",
       "</table>\n",
       "</div>"
      ],
      "text/plain": [
       "   Unnamed: 0                                                url  \\\n",
       "0           0  https://ohou.se/projects/126917/detail?affect_...   \n",
       "1           1  https://ohou.se/projects/126600/detail?affect_...   \n",
       "2           2  https://ohou.se/projects/123056/detail?affect_...   \n",
       "3           3  https://ohou.se/projects/116945/detail?affect_...   \n",
       "4           4  https://ohou.se/projects/127436/detail?affect_...   \n",
       "\n",
       "                               제목        작성일자   평수          가족형태   공간  스타일  \\\n",
       "0  서재형 거실부터 베란다 아뜰리에까지! 센스만점 오베네홈  2022.10.07  34평      아기가 있는 집  아파트  내추럴   \n",
       "1  구축 2Bay 리모델링의 바이블, 모던한 32평 신혼집  2022.10.07  32평          신혼부부  아파트   모던   \n",
       "2    취향을 읽고 쓰는 비밀 서재처럼- 푸릇푸릇 3평 방  2022.10.07   3평  부모님과 함께 사는 집   기타  내추럴   \n",
       "3   손 뻗으면 닿을 듯한 녹음🌳 싱그러운 저층집 리모델링  2022.10.07  32평          신혼부부  아파트   모던   \n",
       "4  아늑하고 편안한 무드로- 빈티지 한 스푼 더한 내추럴홈  2022.10.07  57평          신혼부부  아파트  내추럴   \n",
       "\n",
       "                               세부공사      작업         지역     분야       예산  스크랩  \\\n",
       "0                                 0     전문가          0   리모델링        0  136   \n",
       "1  주방리모델링, 조명시공, 중문, 가벽&파티션, 슬라이딩도어     전문가   전라북도 전주시   리모델링  4,200만원   75   \n",
       "2                                 0  셀프•DIY   경상남도 김해시  홈스타일링        0  201   \n",
       "3                  주방리모델링, 조명시공, 중문     전문가  대전광역시 유성구   리모델링  5,500만원  643   \n",
       "4                        주방리모델링, 중문     전문가   충청북도 청주시   리모델링  9,500만원   73   \n",
       "\n",
       "   좋아요   댓글      조회  \n",
       "0   57   15  10,513  \n",
       "1   26   12   5,610  \n",
       "2   60   15   4,214  \n",
       "3  169  122  37,375  \n",
       "4   13    9   3,760  "
      ]
     },
     "execution_count": 28,
     "metadata": {},
     "output_type": "execute_result"
    }
   ],
   "source": [
    "df.head()"
   ]
  },
  {
   "cell_type": "code",
   "execution_count": 29,
   "id": "ddc4842f",
   "metadata": {},
   "outputs": [],
   "source": [
    "# 2차 전처리전 파일 내리기\n",
    "df.to_csv('df.csv')"
   ]
  }
 ],
 "metadata": {
  "kernelspec": {
   "display_name": "Python 3 (ipykernel)",
   "language": "python",
   "name": "python3"
  },
  "language_info": {
   "codemirror_mode": {
    "name": "ipython",
    "version": 3
   },
   "file_extension": ".py",
   "mimetype": "text/x-python",
   "name": "python",
   "nbconvert_exporter": "python",
   "pygments_lexer": "ipython3",
   "version": "3.9.7"
  }
 },
 "nbformat": 4,
 "nbformat_minor": 5
}
