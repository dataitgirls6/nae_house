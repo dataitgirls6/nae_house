{
 "cells": [
  {
   "cell_type": "markdown",
   "metadata": {},
   "source": [
    "## 집들이에 태깅된 상품정보 스크래핑\n",
    "\n",
    "해당 코드는 100개에 한번씩 데이터를 저장하는 방식으로 짜여져 있습니다.\n",
    "\n",
    "코랩의 경우 구글드라이브와 연동해야 합니다."
   ]
  },
  {
   "cell_type": "code",
   "execution_count": null,
   "metadata": {},
   "outputs": [],
   "source": [
    "from google.colab import drive\n",
    "drive.mount('/content/drive')"
   ]
  },
  {
   "cell_type": "markdown",
   "metadata": {},
   "source": [
    "구글 드라이브에 파일을 저장할 폴더를 새로 만들고 그 경로를 `path`에 넣어주세요\n",
    "\n",
    "예) '/content/drive/MyDrive/폴더명'"
   ]
  },
  {
   "cell_type": "code",
   "execution_count": null,
   "metadata": {},
   "outputs": [],
   "source": [
    "path = '경로' ##### 저장할 폴더의 경로. 슬래쉬(/)로 끝난다면 마지막 슬래쉬를 지워주세요."
   ]
  },
  {
   "cell_type": "markdown",
   "metadata": {},
   "source": [
    "상품 상세페이지가 적혀있는 파일을 불러옵니다"
   ]
  },
  {
   "cell_type": "code",
   "execution_count": null,
   "metadata": {},
   "outputs": [],
   "source": [
    "import pandas as pd\n",
    "df = pd.read_csv('prd_urls.csv')\n",
    "df = df.drop('Unnamed: 0', axis = 1)\n",
    "df = df.reset_index(drop = True)\n",
    "df"
   ]
  },
  {
   "cell_type": "markdown",
   "metadata": {},
   "source": [
    "본인이 맡은부분을 start와 end에 넣어주세요.\n",
    "\n",
    "`김민지`  [11300:45300]\n",
    "\n",
    "`김예원`  [45300:79300]\n",
    "\n",
    "`박유정`  [79300:113300]\n",
    "\n",
    "`이소현`  [113300:147300]\n",
    "\n",
    "`이지혜`  [147300:181300]\n",
    "\n",
    "`최수연`  [181300:215300]\n",
    "\n",
    "`송나현`  [:11300], [215300:]"
   ]
  },
  {
   "cell_type": "code",
   "execution_count": null,
   "metadata": {},
   "outputs": [],
   "source": [
    "start = ##### 자신이 맡은 부분 시작점\n",
    "end = ##### 자신이 맡은 부분 종료지점"
   ]
  },
  {
   "cell_type": "code",
   "execution_count": null,
   "metadata": {},
   "outputs": [],
   "source": [
    "df_prd = pd.DataFrame(columns = {'브랜드명', '상품명', '상품가격', '카테고리', '리뷰수', '스크랩수', '스타일링샷수'})\n",
    "df_prd = pd.concat([df[start:end], df_prd], axis = 1)\n",
    "df_prd = df_prd[['id', '상품url', '브랜드명', '상품명', '상품가격', '카테고리', '리뷰수', '스크랩수', '스타일링샷수']]\n",
    "df_prd"
   ]
  },
  {
   "cell_type": "markdown",
   "metadata": {},
   "source": [
    "아래 코드로 스크래핑을 시작합니다. "
   ]
  },
  {
   "cell_type": "code",
   "execution_count": null,
   "metadata": {},
   "outputs": [],
   "source": [
    "# 코랩에서 드라이브 오류날 경우 이 셀을 실행시킵니다.\n",
    "\n",
    "# # install chromium, its driver, and selenium\n",
    "# !apt-get update\n",
    "# !apt install chromium-chromedriver\n",
    "# !cp /usr/lib/chromium-browser/chromedriver /usr/bin\n",
    "# !pip install selenium"
   ]
  },
  {
   "cell_type": "code",
   "execution_count": null,
   "metadata": {},
   "outputs": [],
   "source": [
    "# set options to be headless, ..\n",
    "from selenium import webdriver\n",
    "options = webdriver.ChromeOptions()\n",
    "options.add_argument('--headless')\n",
    "options.add_argument('--no-sandbox')\n",
    "options.add_argument('--disable-dev-shm-usage')"
   ]
  },
  {
   "cell_type": "code",
   "execution_count": null,
   "metadata": {},
   "outputs": [],
   "source": [
    "from selenium import webdriver\n",
    "from selenium.webdriver.chrome.service import Service\n",
    "from bs4 import BeautifulSoup as BS\n",
    "import pandas as pd\n",
    "from IPython.display import display\n",
    "import warnings"
   ]
  },
  {
   "cell_type": "code",
   "execution_count": null,
   "metadata": {},
   "outputs": [],
   "source": [
    "warnings.filterwarnings(action='ignore')\n",
    "\n",
    "driver = webdriver.Chrome('chromedriver',options=options)\n",
    "driver.implicitly_wait(3)\n",
    "\n",
    "\n",
    "for idx in df_prd.index:\n",
    "\n",
    "\n",
    "    # Selenium을 통해 실제 크롬창에서 접속한 것과 동일하게 해당 URL내용을 가져옴\n",
    "    driver.get(df_prd['상품url'][idx])\n",
    "    # 소스를 읽어 BeautifulSoup를 이용해 파싱\n",
    "    html = driver.page_source\n",
    "    soup = BS(html, 'html.parser')\n",
    "\n",
    "    categories = soup.select('body > div.page > div > div > div.production-selling > div.production-selling-overview.container > nav > ol')\n",
    "    products = soup.select('body > div.page > div > div > div.production-selling > div.production-selling-overview.container > div > div.production-selling-overview__content.col-12.col-md-6.col-lg-5 > div.production-selling-header')\n",
    "    price = soup.select('body > div.page > div > div > div.production-selling > div.production-selling-overview.container > div > div.production-selling-overview__content.col-12.col-md-6.col-lg-5 > div.production-selling-header > div.production-selling-header__content > div.production-selling-header__price > span.production-selling-header__price__price-wrap > span.production-selling-header__price__price > span.number')\n",
    "    counts = soup.find_all('span', 'count')\n",
    "\n",
    "\n",
    "    cates = []\n",
    "    for cts in categories[0].find_all('a'):\n",
    "        cates.append(cts.text)\n",
    "\n",
    "    \n",
    "    df_prd['카테고리'][idx] = cates\n",
    "    df_prd['브랜드명'][idx] = products[0].find('a').text\n",
    "    df_prd['상품명'][idx] = products[0].find('span').text\n",
    "    \n",
    "    # 스크랩 건수가 있는 경우\n",
    "    if counts[0].text:\n",
    "        df_prd['스크랩수'][idx] = counts[0].text\n",
    "        \n",
    "    # 스타일링샷 건수가 있는 경우\n",
    "    if counts[1].text:\n",
    "        df_prd['스타일링샷수'][idx] = counts[1].text\n",
    "\n",
    "    # 가격이 있는 경우 (미입점된 상품의 경우 없음)    \n",
    "    if price:\n",
    "        df_prd['상품가격'][idx] = price[0].text\n",
    "\n",
    "    # 리뷰가 있는지 확인\n",
    "    try:\n",
    "        review = soup.find_all('a', 'production-selling-navigation__item')[1]\n",
    "    except:\n",
    "        pass\n",
    "    else:\n",
    "        if review.find('span'):\n",
    "            df_prd['리뷰수'][idx] = review.find('span').text\n",
    "\n",
    "    # 데이터 100건이 쌓일 때마다 저장\n",
    "    if idx % 100 == 99:\n",
    "        print(idx + 1)\n",
    "        df_prd.loc[start:idx+1].to_csv(path + f'/prd_data_{start}_{idx}.csv') ##### 경로부분에 파일을 저장할 경로 넣기\n",
    "\n",
    "driver.close()\n",
    "\n",
    "df_prd.to_csv(path + f'/prd_data_{start}_{idx}.csv')\n"
   ]
  },
  {
   "cell_type": "markdown",
   "metadata": {},
   "source": [
    "- 만약 코드를 돌리다 끊어질 경우\n",
    "    - 괜찮아요! 100개 단위로 저장되어 있으니 가장 마지막에 저장된 파일 제목에 힌트가 있습니다.\n",
    "    - 마지막 파일의 파일명이 `prd_data_0_399.csv` 라면 `start`에 400을 입력하고 다시 돌리면 됩니다.\n",
    "    - 돌리기 전에 마지막 파일을 제외하고 다 삭제해주세요! 파일들을 모아서 병합해야하는데, 이전에 파일들을 모두 가지고 있으면 중복값이 생깁니다.\n",
    "    - 400부터 다시 돌리면 `prd_data_400_799.csv` 이런식으로 바로 파일명이 연결될 거예요 이렇게 연결되는 파일을 모아서 주시면 됩니다.\n",
    "    \n",
    "- 돌아가다 끊긴 게 아니라 뭔가 오류가 생긴 경우\n",
    "    - 바로 저에게 연락주세요! 1만개까지는 생기는 오류를 잡았는데 또 어떤 오류가 나타날지 모르겠어요 😢\n",
    "    \n",
    "**데이터가 많아서 오래 걸릴텐데 함께 돌려주시는 여러분 정말 감사해요♥️**\n",
    "\n",
    "**그럼 잘 부탁드립니다☺️**"
   ]
  },
  {
   "cell_type": "code",
   "execution_count": null,
   "metadata": {},
   "outputs": [],
   "source": []
  }
 ],
 "metadata": {
  "kernelspec": {
   "display_name": "Python 3.9.0 64-bit",
   "language": "python",
   "name": "python3"
  },
  "language_info": {
   "codemirror_mode": {
    "name": "ipython",
    "version": 3
   },
   "file_extension": ".py",
   "mimetype": "text/x-python",
   "name": "python",
   "nbconvert_exporter": "python",
   "pygments_lexer": "ipython3",
   "version": "3.9.0"
  },
  "vscode": {
   "interpreter": {
    "hash": "7812ea015bdcee6f23a998adcdd2ef97c151c0c241b7b7070987d9313e41299d"
   }
  }
 },
 "nbformat": 4,
 "nbformat_minor": 4
}
