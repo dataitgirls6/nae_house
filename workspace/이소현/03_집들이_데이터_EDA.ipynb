{
 "cells": [
  {
   "cell_type": "markdown",
   "id": "37bbaf72",
   "metadata": {},
   "source": [
    "상품데이터 분석"
   ]
  },
  {
   "cell_type": "code",
   "execution_count": 1,
   "id": "97b102da",
   "metadata": {},
   "outputs": [],
   "source": [
    "import pandas as pd\n",
    "df = pd.read_csv('housewarming.csv')"
   ]
  },
  {
   "cell_type": "code",
   "execution_count": 2,
   "id": "7a2c63df",
   "metadata": {},
   "outputs": [
    {
     "data": {
      "text/plain": [
       "0       서재형 거실부터 베란다 아뜰리에까지! 센스만점 오베네홈\n",
       "1       구축 2Bay 리모델링의 바이블, 모던한 32평 신혼집\n",
       "2         취향을 읽고 쓰는 비밀 서재처럼- 푸릇푸릇 3평 방\n",
       "3        손 뻗으면 닿을 듯한 녹음🌳 싱그러운 저층집 리모델링\n",
       "4       아늑하고 편안한 무드로- 빈티지 한 스푼 더한 내추럴홈\n",
       "                     ...              \n",
       "4895            25년 된 신혼집 반셀프 인테리어 도전기\n",
       "4896    애정 가득 신혼집 : 작은 평수 아파트도 넓고 쾌적하게\n",
       "4897                제주, 그리고 우리 셋 삶의 공간\n",
       "4898    지금의 행복을 택하는 건 꽤 의미있는 투자일지도 몰라요\n",
       "4899           꿈꾸던 신혼집을 만들어가다 #게다가_2층집\n",
       "Name: 제목, Length: 4900, dtype: object"
      ]
     },
     "execution_count": 2,
     "metadata": {},
     "output_type": "execute_result"
    }
   ],
   "source": [
    "df_1=df['제목']\n",
    "df_1"
   ]
  },
  {
   "cell_type": "code",
   "execution_count": 4,
   "id": "24f48269",
   "metadata": {
    "scrolled": false
   },
   "outputs": [
    {
     "data": {
      "text/html": [
       "<div>\n",
       "<style scoped>\n",
       "    .dataframe tbody tr th:only-of-type {\n",
       "        vertical-align: middle;\n",
       "    }\n",
       "\n",
       "    .dataframe tbody tr th {\n",
       "        vertical-align: top;\n",
       "    }\n",
       "\n",
       "    .dataframe thead th {\n",
       "        text-align: right;\n",
       "    }\n",
       "</style>\n",
       "<table border=\"1\" class=\"dataframe\">\n",
       "  <thead>\n",
       "    <tr style=\"text-align: right;\">\n",
       "      <th></th>\n",
       "      <th>id</th>\n",
       "      <th>작성일</th>\n",
       "      <th>제목</th>\n",
       "      <th>가족형태</th>\n",
       "      <th>공간</th>\n",
       "      <th>평수구간</th>\n",
       "      <th>스타일</th>\n",
       "      <th>세부공사</th>\n",
       "      <th>분야</th>\n",
       "      <th>작업</th>\n",
       "      <th>예산</th>\n",
       "      <th>조회</th>\n",
       "      <th>스크랩</th>\n",
       "      <th>좋아요</th>\n",
       "      <th>댓글</th>\n",
       "      <th>url</th>\n",
       "    </tr>\n",
       "  </thead>\n",
       "  <tbody>\n",
       "    <tr>\n",
       "      <th>0</th>\n",
       "      <td>0</td>\n",
       "      <td>2022-10-07</td>\n",
       "      <td>서재형 거실부터 베란다 아뜰리에까지! 센스만점 오베네홈</td>\n",
       "      <td>아기가 있는 집</td>\n",
       "      <td>아파트</td>\n",
       "      <td>35</td>\n",
       "      <td>내추럴</td>\n",
       "      <td>0</td>\n",
       "      <td>리모델링</td>\n",
       "      <td>전문가</td>\n",
       "      <td>0</td>\n",
       "      <td>10513</td>\n",
       "      <td>136</td>\n",
       "      <td>57</td>\n",
       "      <td>15</td>\n",
       "      <td>https://ohou.se/projects/126917/detail?affect_...</td>\n",
       "    </tr>\n",
       "    <tr>\n",
       "      <th>1</th>\n",
       "      <td>1</td>\n",
       "      <td>2022-10-07</td>\n",
       "      <td>구축 2Bay 리모델링의 바이블, 모던한 32평 신혼집</td>\n",
       "      <td>신혼부부</td>\n",
       "      <td>아파트</td>\n",
       "      <td>35</td>\n",
       "      <td>모던</td>\n",
       "      <td>주방리모델링, 조명시공, 중문, 가벽&amp;파티션, 슬라이딩도어</td>\n",
       "      <td>리모델링</td>\n",
       "      <td>전문가</td>\n",
       "      <td>4200</td>\n",
       "      <td>5610</td>\n",
       "      <td>75</td>\n",
       "      <td>26</td>\n",
       "      <td>12</td>\n",
       "      <td>https://ohou.se/projects/126600/detail?affect_...</td>\n",
       "    </tr>\n",
       "    <tr>\n",
       "      <th>2</th>\n",
       "      <td>2</td>\n",
       "      <td>2022-10-07</td>\n",
       "      <td>취향을 읽고 쓰는 비밀 서재처럼- 푸릇푸릇 3평 방</td>\n",
       "      <td>부모님과 함께 사는 집</td>\n",
       "      <td>기타</td>\n",
       "      <td>5</td>\n",
       "      <td>내추럴</td>\n",
       "      <td>0</td>\n",
       "      <td>홈스타일링</td>\n",
       "      <td>셀프•DIY</td>\n",
       "      <td>0</td>\n",
       "      <td>4214</td>\n",
       "      <td>201</td>\n",
       "      <td>60</td>\n",
       "      <td>15</td>\n",
       "      <td>https://ohou.se/projects/123056/detail?affect_...</td>\n",
       "    </tr>\n",
       "    <tr>\n",
       "      <th>3</th>\n",
       "      <td>3</td>\n",
       "      <td>2022-10-07</td>\n",
       "      <td>손 뻗으면 닿을 듯한 녹음🌳 싱그러운 저층집 리모델링</td>\n",
       "      <td>신혼부부</td>\n",
       "      <td>아파트</td>\n",
       "      <td>35</td>\n",
       "      <td>모던</td>\n",
       "      <td>주방리모델링, 조명시공, 중문</td>\n",
       "      <td>리모델링</td>\n",
       "      <td>전문가</td>\n",
       "      <td>5500</td>\n",
       "      <td>37375</td>\n",
       "      <td>643</td>\n",
       "      <td>169</td>\n",
       "      <td>122</td>\n",
       "      <td>https://ohou.se/projects/116945/detail?affect_...</td>\n",
       "    </tr>\n",
       "    <tr>\n",
       "      <th>4</th>\n",
       "      <td>4</td>\n",
       "      <td>2022-10-07</td>\n",
       "      <td>아늑하고 편안한 무드로- 빈티지 한 스푼 더한 내추럴홈</td>\n",
       "      <td>신혼부부</td>\n",
       "      <td>아파트</td>\n",
       "      <td>55</td>\n",
       "      <td>내추럴</td>\n",
       "      <td>주방리모델링, 중문</td>\n",
       "      <td>리모델링</td>\n",
       "      <td>전문가</td>\n",
       "      <td>9500</td>\n",
       "      <td>3760</td>\n",
       "      <td>73</td>\n",
       "      <td>13</td>\n",
       "      <td>9</td>\n",
       "      <td>https://ohou.se/projects/127436/detail?affect_...</td>\n",
       "    </tr>\n",
       "  </tbody>\n",
       "</table>\n",
       "</div>"
      ],
      "text/plain": [
       "   id         작성일                              제목          가족형태   공간  평수구간  \\\n",
       "0   0  2022-10-07  서재형 거실부터 베란다 아뜰리에까지! 센스만점 오베네홈      아기가 있는 집  아파트    35   \n",
       "1   1  2022-10-07  구축 2Bay 리모델링의 바이블, 모던한 32평 신혼집          신혼부부  아파트    35   \n",
       "2   2  2022-10-07    취향을 읽고 쓰는 비밀 서재처럼- 푸릇푸릇 3평 방  부모님과 함께 사는 집   기타     5   \n",
       "3   3  2022-10-07   손 뻗으면 닿을 듯한 녹음🌳 싱그러운 저층집 리모델링          신혼부부  아파트    35   \n",
       "4   4  2022-10-07  아늑하고 편안한 무드로- 빈티지 한 스푼 더한 내추럴홈          신혼부부  아파트    55   \n",
       "\n",
       "   스타일                              세부공사     분야      작업    예산     조회  스크랩  \\\n",
       "0  내추럴                                 0   리모델링     전문가     0  10513  136   \n",
       "1   모던  주방리모델링, 조명시공, 중문, 가벽&파티션, 슬라이딩도어   리모델링     전문가  4200   5610   75   \n",
       "2  내추럴                                 0  홈스타일링  셀프•DIY     0   4214  201   \n",
       "3   모던                  주방리모델링, 조명시공, 중문   리모델링     전문가  5500  37375  643   \n",
       "4  내추럴                        주방리모델링, 중문   리모델링     전문가  9500   3760   73   \n",
       "\n",
       "   좋아요   댓글                                                url  \n",
       "0   57   15  https://ohou.se/projects/126917/detail?affect_...  \n",
       "1   26   12  https://ohou.se/projects/126600/detail?affect_...  \n",
       "2   60   15  https://ohou.se/projects/123056/detail?affect_...  \n",
       "3  169  122  https://ohou.se/projects/116945/detail?affect_...  \n",
       "4   13    9  https://ohou.se/projects/127436/detail?affect_...  "
      ]
     },
     "execution_count": 4,
     "metadata": {},
     "output_type": "execute_result"
    }
   ],
   "source": [
    "df.head()"
   ]
  },
  {
   "cell_type": "code",
   "execution_count": null,
   "id": "3c46a658",
   "metadata": {
    "scrolled": true
   },
   "outputs": [],
   "source": [
    "df.head()"
   ]
  },
  {
   "cell_type": "code",
   "execution_count": 5,
   "id": "8ceb9986",
   "metadata": {},
   "outputs": [
    {
     "data": {
      "text/plain": [
       "(4900, 16)"
      ]
     },
     "execution_count": 5,
     "metadata": {},
     "output_type": "execute_result"
    }
   ],
   "source": [
    "df.shape"
   ]
  },
  {
   "cell_type": "code",
   "execution_count": 6,
   "id": "7e3d212a",
   "metadata": {
    "scrolled": true
   },
   "outputs": [
    {
     "name": "stdout",
     "output_type": "stream",
     "text": [
      "Collecting spacy\n",
      "  Downloading spacy-3.4.1-cp39-cp39-win_amd64.whl (11.8 MB)\n",
      "Collecting thinc<8.2.0,>=8.1.0\n",
      "  Downloading thinc-8.1.4-cp39-cp39-win_amd64.whl (1.3 MB)\n",
      "Collecting srsly<3.0.0,>=2.4.3\n",
      "  Downloading srsly-2.4.4-cp39-cp39-win_amd64.whl (450 kB)\n",
      "Collecting langcodes<4.0.0,>=3.2.0\n",
      "  Downloading langcodes-3.3.0-py3-none-any.whl (181 kB)\n",
      "Collecting murmurhash<1.1.0,>=0.28.0\n",
      "  Downloading murmurhash-1.0.8-cp39-cp39-win_amd64.whl (18 kB)\n",
      "Requirement already satisfied: numpy>=1.15.0 in c:\\programdata\\anaconda3\\lib\\site-packages (from spacy) (1.21.5)\n",
      "Collecting wasabi<1.1.0,>=0.9.1\n",
      "  Downloading wasabi-0.10.1-py3-none-any.whl (26 kB)\n",
      "Requirement already satisfied: jinja2 in c:\\programdata\\anaconda3\\lib\\site-packages (from spacy) (2.11.3)\n",
      "Collecting typer<0.5.0,>=0.3.0\n",
      "  Downloading typer-0.4.2-py3-none-any.whl (27 kB)\n",
      "Collecting catalogue<2.1.0,>=2.0.6\n",
      "  Downloading catalogue-2.0.8-py3-none-any.whl (17 kB)\n",
      "Collecting preshed<3.1.0,>=3.0.2\n",
      "  Downloading preshed-3.0.7-cp39-cp39-win_amd64.whl (96 kB)\n",
      "Collecting pydantic!=1.8,!=1.8.1,<1.10.0,>=1.7.4\n",
      "  Downloading pydantic-1.9.2-cp39-cp39-win_amd64.whl (2.0 MB)\n",
      "Collecting spacy-loggers<2.0.0,>=1.0.0\n",
      "  Downloading spacy_loggers-1.0.3-py3-none-any.whl (9.3 kB)\n",
      "Requirement already satisfied: setuptools in c:\\programdata\\anaconda3\\lib\\site-packages (from spacy) (61.2.0)\n",
      "Collecting cymem<2.1.0,>=2.0.2\n",
      "  Downloading cymem-2.0.6-cp39-cp39-win_amd64.whl (36 kB)\n",
      "Requirement already satisfied: tqdm<5.0.0,>=4.38.0 in c:\\programdata\\anaconda3\\lib\\site-packages (from spacy) (4.64.0)\n",
      "Requirement already satisfied: packaging>=20.0 in c:\\programdata\\anaconda3\\lib\\site-packages (from spacy) (21.3)\n",
      "Collecting pathy>=0.3.5\n",
      "  Downloading pathy-0.6.2-py3-none-any.whl (42 kB)\n",
      "Collecting spacy-legacy<3.1.0,>=3.0.9\n",
      "  Downloading spacy_legacy-3.0.10-py2.py3-none-any.whl (21 kB)\n",
      "Requirement already satisfied: requests<3.0.0,>=2.13.0 in c:\\programdata\\anaconda3\\lib\\site-packages (from spacy) (2.27.1)\n",
      "Requirement already satisfied: pyparsing!=3.0.5,>=2.0.2 in c:\\programdata\\anaconda3\\lib\\site-packages (from packaging>=20.0->spacy) (3.0.4)\n",
      "Collecting smart-open<6.0.0,>=5.2.1\n",
      "  Downloading smart_open-5.2.1-py3-none-any.whl (58 kB)\n",
      "Requirement already satisfied: typing-extensions>=3.7.4.3 in c:\\programdata\\anaconda3\\lib\\site-packages (from pydantic!=1.8,!=1.8.1,<1.10.0,>=1.7.4->spacy) (4.1.1)\n",
      "Requirement already satisfied: idna<4,>=2.5 in c:\\programdata\\anaconda3\\lib\\site-packages (from requests<3.0.0,>=2.13.0->spacy) (3.3)\n",
      "Requirement already satisfied: certifi>=2017.4.17 in c:\\programdata\\anaconda3\\lib\\site-packages (from requests<3.0.0,>=2.13.0->spacy) (2021.10.8)\n",
      "Requirement already satisfied: urllib3<1.27,>=1.21.1 in c:\\programdata\\anaconda3\\lib\\site-packages (from requests<3.0.0,>=2.13.0->spacy) (1.26.9)\n",
      "Requirement already satisfied: charset-normalizer~=2.0.0 in c:\\programdata\\anaconda3\\lib\\site-packages (from requests<3.0.0,>=2.13.0->spacy) (2.0.4)\n",
      "Collecting confection<1.0.0,>=0.0.1\n",
      "  Downloading confection-0.0.3-py3-none-any.whl (32 kB)\n",
      "Collecting blis<0.8.0,>=0.7.8\n",
      "  Downloading blis-0.7.8-cp39-cp39-win_amd64.whl (6.6 MB)\n",
      "Requirement already satisfied: colorama in c:\\programdata\\anaconda3\\lib\\site-packages (from tqdm<5.0.0,>=4.38.0->spacy) (0.4.4)\n",
      "Requirement already satisfied: click<9.0.0,>=7.1.1 in c:\\programdata\\anaconda3\\lib\\site-packages (from typer<0.5.0,>=0.3.0->spacy) (8.0.4)\n",
      "Requirement already satisfied: MarkupSafe>=0.23 in c:\\programdata\\anaconda3\\lib\\site-packages (from jinja2->spacy) (2.0.1)\n",
      "Installing collected packages: catalogue, srsly, pydantic, murmurhash, cymem, wasabi, typer, smart-open, preshed, confection, blis, thinc, spacy-loggers, spacy-legacy, pathy, langcodes, spacy\n",
      "  Attempting uninstall: smart-open\n",
      "    Found existing installation: smart-open 5.1.0\n",
      "    Uninstalling smart-open-5.1.0:\n",
      "      Successfully uninstalled smart-open-5.1.0\n",
      "Successfully installed blis-0.7.8 catalogue-2.0.8 confection-0.0.3 cymem-2.0.6 langcodes-3.3.0 murmurhash-1.0.8 pathy-0.6.2 preshed-3.0.7 pydantic-1.9.2 smart-open-5.2.1 spacy-3.4.1 spacy-legacy-3.0.10 spacy-loggers-1.0.3 srsly-2.4.4 thinc-8.1.4 typer-0.4.2 wasabi-0.10.1\n"
     ]
    }
   ],
   "source": [
    "!pip install spacy"
   ]
  },
  {
   "cell_type": "code",
   "execution_count": 8,
   "id": "bc0f8fe5",
   "metadata": {},
   "outputs": [],
   "source": [
    "import spacy"
   ]
  },
  {
   "cell_type": "code",
   "execution_count": 10,
   "id": "cebf4754",
   "metadata": {
    "scrolled": true
   },
   "outputs": [
    {
     "name": "stdout",
     "output_type": "stream",
     "text": [
      "Collecting en-core-web-sm==3.4.0\n",
      "  Downloading https://github.com/explosion/spacy-models/releases/download/en_core_web_sm-3.4.0/en_core_web_sm-3.4.0-py3-none-any.whl (12.8 MB)\n",
      "Requirement already satisfied: spacy<3.5.0,>=3.4.0 in c:\\programdata\\anaconda3\\lib\\site-packages (from en-core-web-sm==3.4.0) (3.4.1)\n",
      "Requirement already satisfied: pathy>=0.3.5 in c:\\programdata\\anaconda3\\lib\\site-packages (from spacy<3.5.0,>=3.4.0->en-core-web-sm==3.4.0) (0.6.2)\n",
      "Requirement already satisfied: setuptools in c:\\programdata\\anaconda3\\lib\\site-packages (from spacy<3.5.0,>=3.4.0->en-core-web-sm==3.4.0) (61.2.0)\n",
      "Requirement already satisfied: catalogue<2.1.0,>=2.0.6 in c:\\programdata\\anaconda3\\lib\\site-packages (from spacy<3.5.0,>=3.4.0->en-core-web-sm==3.4.0) (2.0.8)\n",
      "Requirement already satisfied: typer<0.5.0,>=0.3.0 in c:\\programdata\\anaconda3\\lib\\site-packages (from spacy<3.5.0,>=3.4.0->en-core-web-sm==3.4.0) (0.4.2)\n",
      "Requirement already satisfied: requests<3.0.0,>=2.13.0 in c:\\programdata\\anaconda3\\lib\\site-packages (from spacy<3.5.0,>=3.4.0->en-core-web-sm==3.4.0) (2.27.1)\n",
      "Requirement already satisfied: wasabi<1.1.0,>=0.9.1 in c:\\programdata\\anaconda3\\lib\\site-packages (from spacy<3.5.0,>=3.4.0->en-core-web-sm==3.4.0) (0.10.1)\n",
      "Requirement already satisfied: murmurhash<1.1.0,>=0.28.0 in c:\\programdata\\anaconda3\\lib\\site-packages (from spacy<3.5.0,>=3.4.0->en-core-web-sm==3.4.0) (1.0.8)\n",
      "Requirement already satisfied: langcodes<4.0.0,>=3.2.0 in c:\\programdata\\anaconda3\\lib\\site-packages (from spacy<3.5.0,>=3.4.0->en-core-web-sm==3.4.0) (3.3.0)\n",
      "Requirement already satisfied: spacy-loggers<2.0.0,>=1.0.0 in c:\\programdata\\anaconda3\\lib\\site-packages (from spacy<3.5.0,>=3.4.0->en-core-web-sm==3.4.0) (1.0.3)\n",
      "Requirement already satisfied: spacy-legacy<3.1.0,>=3.0.9 in c:\\programdata\\anaconda3\\lib\\site-packages (from spacy<3.5.0,>=3.4.0->en-core-web-sm==3.4.0) (3.0.10)\n",
      "Requirement already satisfied: pydantic!=1.8,!=1.8.1,<1.10.0,>=1.7.4 in c:\\programdata\\anaconda3\\lib\\site-packages (from spacy<3.5.0,>=3.4.0->en-core-web-sm==3.4.0) (1.9.2)\n",
      "Requirement already satisfied: tqdm<5.0.0,>=4.38.0 in c:\\programdata\\anaconda3\\lib\\site-packages (from spacy<3.5.0,>=3.4.0->en-core-web-sm==3.4.0) (4.64.0)\n",
      "Requirement already satisfied: thinc<8.2.0,>=8.1.0 in c:\\programdata\\anaconda3\\lib\\site-packages (from spacy<3.5.0,>=3.4.0->en-core-web-sm==3.4.0) (8.1.4)\n",
      "Requirement already satisfied: srsly<3.0.0,>=2.4.3 in c:\\programdata\\anaconda3\\lib\\site-packages (from spacy<3.5.0,>=3.4.0->en-core-web-sm==3.4.0) (2.4.4)\n",
      "Requirement already satisfied: numpy>=1.15.0 in c:\\programdata\\anaconda3\\lib\\site-packages (from spacy<3.5.0,>=3.4.0->en-core-web-sm==3.4.0) (1.21.5)\n",
      "Requirement already satisfied: cymem<2.1.0,>=2.0.2 in c:\\programdata\\anaconda3\\lib\\site-packages (from spacy<3.5.0,>=3.4.0->en-core-web-sm==3.4.0) (2.0.6)\n",
      "Requirement already satisfied: jinja2 in c:\\programdata\\anaconda3\\lib\\site-packages (from spacy<3.5.0,>=3.4.0->en-core-web-sm==3.4.0) (2.11.3)\n"
     ]
    },
    {
     "name": "stderr",
     "output_type": "stream",
     "text": [
      "2022-10-14 17:59:06.578450: W tensorflow/stream_executor/platform/default/dso_loader.cc:64] Could not load dynamic library 'cudart64_110.dll'; dlerror: cudart64_110.dll not found\n",
      "2022-10-14 17:59:06.578531: I tensorflow/stream_executor/cuda/cudart_stub.cc:29] Ignore above cudart dlerror if you do not have a GPU set up on your machine.\n",
      "2022-10-14 17:59:13.475303: W tensorflow/stream_executor/platform/default/dso_loader.cc:64] Could not load dynamic library 'nvcuda.dll'; dlerror: nvcuda.dll not found\n",
      "2022-10-14 17:59:13.475341: W tensorflow/stream_executor/cuda/cuda_driver.cc:263] failed call to cuInit: UNKNOWN ERROR (303)\n",
      "2022-10-14 17:59:13.486677: I tensorflow/stream_executor/cuda/cuda_diagnostics.cc:169] retrieving CUDA diagnostic information for host: DESKTOP-VSA4KRP\n",
      "2022-10-14 17:59:13.487010: I tensorflow/stream_executor/cuda/cuda_diagnostics.cc:176] hostname: DESKTOP-VSA4KRP\n"
     ]
    },
    {
     "name": "stdout",
     "output_type": "stream",
     "text": [
      "Requirement already satisfied: packaging>=20.0 in c:\\programdata\\anaconda3\\lib\\site-packages (from spacy<3.5.0,>=3.4.0->en-core-web-sm==3.4.0) (21.3)\n",
      "Requirement already satisfied: preshed<3.1.0,>=3.0.2 in c:\\programdata\\anaconda3\\lib\\site-packages (from spacy<3.5.0,>=3.4.0->en-core-web-sm==3.4.0) (3.0.7)\n",
      "Requirement already satisfied: pyparsing!=3.0.5,>=2.0.2 in c:\\programdata\\anaconda3\\lib\\site-packages (from packaging>=20.0->spacy<3.5.0,>=3.4.0->en-core-web-sm==3.4.0) (3.0.4)\n",
      "Requirement already satisfied: smart-open<6.0.0,>=5.2.1 in c:\\programdata\\anaconda3\\lib\\site-packages (from pathy>=0.3.5->spacy<3.5.0,>=3.4.0->en-core-web-sm==3.4.0) (5.2.1)\n",
      "Requirement already satisfied: typing-extensions>=3.7.4.3 in c:\\programdata\\anaconda3\\lib\\site-packages (from pydantic!=1.8,!=1.8.1,<1.10.0,>=1.7.4->spacy<3.5.0,>=3.4.0->en-core-web-sm==3.4.0) (4.1.1)\n",
      "Requirement already satisfied: charset-normalizer~=2.0.0 in c:\\programdata\\anaconda3\\lib\\site-packages (from requests<3.0.0,>=2.13.0->spacy<3.5.0,>=3.4.0->en-core-web-sm==3.4.0) (2.0.4)\n",
      "Requirement already satisfied: certifi>=2017.4.17 in c:\\programdata\\anaconda3\\lib\\site-packages (from requests<3.0.0,>=2.13.0->spacy<3.5.0,>=3.4.0->en-core-web-sm==3.4.0) (2021.10.8)\n",
      "Requirement already satisfied: urllib3<1.27,>=1.21.1 in c:\\programdata\\anaconda3\\lib\\site-packages (from requests<3.0.0,>=2.13.0->spacy<3.5.0,>=3.4.0->en-core-web-sm==3.4.0) (1.26.9)\n",
      "Requirement already satisfied: idna<4,>=2.5 in c:\\programdata\\anaconda3\\lib\\site-packages (from requests<3.0.0,>=2.13.0->spacy<3.5.0,>=3.4.0->en-core-web-sm==3.4.0) (3.3)\n",
      "Requirement already satisfied: blis<0.8.0,>=0.7.8 in c:\\programdata\\anaconda3\\lib\\site-packages (from thinc<8.2.0,>=8.1.0->spacy<3.5.0,>=3.4.0->en-core-web-sm==3.4.0) (0.7.8)\n",
      "Requirement already satisfied: confection<1.0.0,>=0.0.1 in c:\\programdata\\anaconda3\\lib\\site-packages (from thinc<8.2.0,>=8.1.0->spacy<3.5.0,>=3.4.0->en-core-web-sm==3.4.0) (0.0.3)\n",
      "Requirement already satisfied: colorama in c:\\programdata\\anaconda3\\lib\\site-packages (from tqdm<5.0.0,>=4.38.0->spacy<3.5.0,>=3.4.0->en-core-web-sm==3.4.0) (0.4.4)\n",
      "Requirement already satisfied: click<9.0.0,>=7.1.1 in c:\\programdata\\anaconda3\\lib\\site-packages (from typer<0.5.0,>=0.3.0->spacy<3.5.0,>=3.4.0->en-core-web-sm==3.4.0) (8.0.4)\n",
      "Requirement already satisfied: MarkupSafe>=0.23 in c:\\programdata\\anaconda3\\lib\\site-packages (from jinja2->spacy<3.5.0,>=3.4.0->en-core-web-sm==3.4.0) (2.0.1)\n",
      "Installing collected packages: en-core-web-sm\n",
      "Successfully installed en-core-web-sm-3.4.0\n",
      "[+] Download and installation successful\n",
      "You can now load the package via spacy.load('en_core_web_sm')\n"
     ]
    }
   ],
   "source": [
    "!python -m spacy download en_core_web_sm"
   ]
  },
  {
   "cell_type": "code",
   "execution_count": 9,
   "id": "152edfaf",
   "metadata": {},
   "outputs": [
    {
     "ename": "NameError",
     "evalue": "name 'nlp' is not defined",
     "output_type": "error",
     "traceback": [
      "\u001b[1;31m---------------------------------------------------------------------------\u001b[0m",
      "\u001b[1;31mNameError\u001b[0m                                 Traceback (most recent call last)",
      "Input \u001b[1;32mIn [9]\u001b[0m, in \u001b[0;36m<cell line: 2>\u001b[1;34m()\u001b[0m\n\u001b[0;32m      1\u001b[0m text \u001b[38;5;241m=\u001b[39m \u001b[38;5;124m\"\u001b[39m\u001b[38;5;124mAll work and no play makes Jack a dull boy.\u001b[39m\u001b[38;5;124m\"\u001b[39m\n\u001b[1;32m----> 2\u001b[0m doc \u001b[38;5;241m=\u001b[39m \u001b[43mnlp\u001b[49m(text)\n\u001b[0;32m      3\u001b[0m \u001b[38;5;28;01mfor\u001b[39;00m token \u001b[38;5;129;01min\u001b[39;00m doc:\n\u001b[0;32m      4\u001b[0m     \u001b[38;5;28mprint\u001b[39m(token\u001b[38;5;241m.\u001b[39mtext,\n\u001b[0;32m      5\u001b[0m          token\u001b[38;5;241m.\u001b[39mlemma_,\n\u001b[0;32m      6\u001b[0m          token\u001b[38;5;241m.\u001b[39mpos_,\n\u001b[0;32m      7\u001b[0m          token\u001b[38;5;241m.\u001b[39mtag_,\n\u001b[0;32m      8\u001b[0m          token\u001b[38;5;241m.\u001b[39mis_stop)\n",
      "\u001b[1;31mNameError\u001b[0m: name 'nlp' is not defined"
     ]
    }
   ],
   "source": [
    "text = \"All work and no play makes Jack a dull boy.\"\n",
    "doc = nlp(text)\n",
    "for token in doc:\n",
    "    print(token.text,\n",
    "         token.lemma_,\n",
    "         token.pos_,\n",
    "         token.tag_,\n",
    "         token.is_stop)"
   ]
  },
  {
   "cell_type": "code",
   "execution_count": 1,
   "id": "7c2ec7f4",
   "metadata": {},
   "outputs": [],
   "source": [
    "import pandas as pd\n",
    "df_hw = pd.read_csv('housewarming2.csv')\n",
    "df_prd = pd.read_csv('prd_details_fixed.csv')"
   ]
  },
  {
   "cell_type": "code",
   "execution_count": 2,
   "id": "8ffbc306",
   "metadata": {},
   "outputs": [
    {
     "data": {
      "text/html": [
       "<div>\n",
       "<style scoped>\n",
       "    .dataframe tbody tr th:only-of-type {\n",
       "        vertical-align: middle;\n",
       "    }\n",
       "\n",
       "    .dataframe tbody tr th {\n",
       "        vertical-align: top;\n",
       "    }\n",
       "\n",
       "    .dataframe thead th {\n",
       "        text-align: right;\n",
       "    }\n",
       "</style>\n",
       "<table border=\"1\" class=\"dataframe\">\n",
       "  <thead>\n",
       "    <tr style=\"text-align: right;\">\n",
       "      <th></th>\n",
       "      <th>id</th>\n",
       "      <th>상품명</th>\n",
       "      <th>스타일</th>\n",
       "    </tr>\n",
       "  </thead>\n",
       "  <tbody>\n",
       "    <tr>\n",
       "      <th>0</th>\n",
       "      <td>0</td>\n",
       "      <td>리버서블 오피스 데스크 책상/테이블 600~2400mm(2colors)</td>\n",
       "      <td>내추럴</td>\n",
       "    </tr>\n",
       "    <tr>\n",
       "      <th>1</th>\n",
       "      <td>0</td>\n",
       "      <td>벤트라이크 멀티플 접이식 세발자전거+안전가드</td>\n",
       "      <td>내추럴</td>\n",
       "    </tr>\n",
       "    <tr>\n",
       "      <th>2</th>\n",
       "      <td>0</td>\n",
       "      <td>FLENSTED MOBILES 모빌 - 천사 Angel mobile</td>\n",
       "      <td>내추럴</td>\n",
       "    </tr>\n",
       "    <tr>\n",
       "      <th>3</th>\n",
       "      <td>0</td>\n",
       "      <td>경추목 메모리폼 숙면 꿀잠 수면 베개_항균탠샐</td>\n",
       "      <td>내추럴</td>\n",
       "    </tr>\n",
       "    <tr>\n",
       "      <th>4</th>\n",
       "      <td>0</td>\n",
       "      <td>리스 클래식 법랑 양수냄비 22cm(H)</td>\n",
       "      <td>내추럴</td>\n",
       "    </tr>\n",
       "    <tr>\n",
       "      <th>...</th>\n",
       "      <td>...</td>\n",
       "      <td>...</td>\n",
       "      <td>...</td>\n",
       "    </tr>\n",
       "    <tr>\n",
       "      <th>231385</th>\n",
       "      <td>4691</td>\n",
       "      <td>악세스시리즈01 한정판 아트포스터</td>\n",
       "      <td>유니크&amp;믹스매치</td>\n",
       "    </tr>\n",
       "    <tr>\n",
       "      <th>231386</th>\n",
       "      <td>4691</td>\n",
       "      <td>[해외]Sand Rug 01</td>\n",
       "      <td>유니크&amp;믹스매치</td>\n",
       "    </tr>\n",
       "    <tr>\n",
       "      <th>231387</th>\n",
       "      <td>4691</td>\n",
       "      <td>Pale Nulle</td>\n",
       "      <td>유니크&amp;믹스매치</td>\n",
       "    </tr>\n",
       "    <tr>\n",
       "      <th>231388</th>\n",
       "      <td>4691</td>\n",
       "      <td>FROSTA 스툴 3colors</td>\n",
       "      <td>유니크&amp;믹스매치</td>\n",
       "    </tr>\n",
       "    <tr>\n",
       "      <th>231389</th>\n",
       "      <td>4691</td>\n",
       "      <td>EKRAR 에크라르 스탠드 옷걸이</td>\n",
       "      <td>유니크&amp;믹스매치</td>\n",
       "    </tr>\n",
       "  </tbody>\n",
       "</table>\n",
       "<p>231390 rows × 3 columns</p>\n",
       "</div>"
      ],
      "text/plain": [
       "          id                                      상품명       스타일\n",
       "0          0  리버서블 오피스 데스크 책상/테이블 600~2400mm(2colors)       내추럴\n",
       "1          0                 벤트라이크 멀티플 접이식 세발자전거+안전가드       내추럴\n",
       "2          0    FLENSTED MOBILES 모빌 - 천사 Angel mobile       내추럴\n",
       "3          0                경추목 메모리폼 숙면 꿀잠 수면 베개_항균탠샐       내추럴\n",
       "4          0                   리스 클래식 법랑 양수냄비 22cm(H)       내추럴\n",
       "...      ...                                      ...       ...\n",
       "231385  4691                      악세스시리즈01 한정판 아트포스터   유니크&믹스매치\n",
       "231386  4691                          [해외]Sand Rug 01  유니크&믹스매치\n",
       "231387  4691                               Pale Nulle  유니크&믹스매치\n",
       "231388  4691                        FROSTA 스툴 3colors  유니크&믹스매치\n",
       "231389  4691                       EKRAR 에크라르 스탠드 옷걸이  유니크&믹스매치\n",
       "\n",
       "[231390 rows x 3 columns]"
      ]
     },
     "execution_count": 2,
     "metadata": {},
     "output_type": "execute_result"
    }
   ],
   "source": [
    "df_prd_style = df_prd[['id', '상품명']].merge(df_hw[['id', '스타일']], how = 'left', on = 'id')\n",
    "df_prd_style"
   ]
  },
  {
   "cell_type": "markdown",
   "id": "72b69856",
   "metadata": {},
   "source": [
    "- **상품 연관 분석(Association Rule): '**이 물건을 살 때 함께 많이 사는 물건은?' 등을 분석하여 연관상품을 추천\n",
    "- **협업필터링(Collaborative Filtering):** 고객간 혹은 아이템간의 거리(유사도)를 측정하여 비슷한 유형을 추천\n",
    "- **행렬분해(Matrix Factorization):** MF는 CF와 별개가 아닌 CF의 한 model based 기법이지만 성능이 뛰어나 많이 사용되다 보니 별도로 언급되곤 합니다. CF에서는 구매하지 않은 아이템과 구매한 경험이 없는 고객에 대한 자료가 없어 희귀행렬(Sprase Matrix)가 만들어지는데 이 데이터는 U x I 행렬로 표현됩니다. MF에서는 이를 U x k, I x k 행렬로 분해하는 과정을 진행하며 이때 빈 곳을 채우는 작업을 수행하게 되며 이때 k(latent factor)라는 블랙박스가 생성됩니다.\n",
    "- **DNN을 이용한 방법:** Item2Vec, User2Vec 등 임베딩으로 벡터화한 후 거리 측정을 하는 방식 정도로 크게 유형을 나눠볼 수 있을 것 같습니다."
   ]
  }
 ],
 "metadata": {
  "kernelspec": {
   "display_name": "Python 3 (ipykernel)",
   "language": "python",
   "name": "python3"
  },
  "language_info": {
   "codemirror_mode": {
    "name": "ipython",
    "version": 3
   },
   "file_extension": ".py",
   "mimetype": "text/x-python",
   "name": "python",
   "nbconvert_exporter": "python",
   "pygments_lexer": "ipython3",
   "version": "3.9.12"
  }
 },
 "nbformat": 4,
 "nbformat_minor": 5
}
