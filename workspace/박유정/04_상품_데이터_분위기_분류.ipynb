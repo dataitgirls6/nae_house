{
 "cells": [
  {
   "cell_type": "markdown",
   "id": "3e35cc8e",
   "metadata": {},
   "source": [
    "### 상품명으로 상품 분위기 분류하기"
   ]
  },
  {
   "cell_type": "code",
   "execution_count": 1,
   "id": "6f58a63e",
   "metadata": {
    "ExecuteTime": {
     "end_time": "2022-11-01T06:35:21.108958Z",
     "start_time": "2022-11-01T06:35:19.096960Z"
    }
   },
   "outputs": [],
   "source": [
    "import pandas as pd\n",
    "prd = pd.read_csv('prd_details_fixed.csv')\n",
    "style = pd.read_csv('prd_style_match.csv')"
   ]
  },
  {
   "cell_type": "code",
   "execution_count": 2,
   "id": "ad8bf41c",
   "metadata": {
    "ExecuteTime": {
     "end_time": "2022-11-01T06:35:23.375653Z",
     "start_time": "2022-11-01T06:35:22.169652Z"
    }
   },
   "outputs": [
    {
     "name": "stderr",
     "output_type": "stream",
     "text": [
      "C:\\Users\\skygg\\AppData\\Local\\Temp/ipykernel_26512/1798900342.py:3: SettingWithCopyWarning: \n",
      "A value is trying to be set on a copy of a slice from a DataFrame\n",
      "\n",
      "See the caveats in the documentation: https://pandas.pydata.org/pandas-docs/stable/user_guide/indexing.html#returning-a-view-versus-a-copy\n",
      "  df.drop_duplicates(inplace = True) # 중복 제거\n"
     ]
    }
   ],
   "source": [
    "master = pd.merge(prd, style, on='상품명', how='inner') # 조인\n",
    "df = master[['상품명', '분위기']] # 사용할 칼럼만 가져오기\n",
    "df.drop_duplicates(inplace = True) # 중복 제거\n",
    "df.reset_index(drop='True', inplace=True) # 인덱스 번호 정리"
   ]
  },
  {
   "cell_type": "code",
   "execution_count": 3,
   "id": "98c17c0e",
   "metadata": {
    "ExecuteTime": {
     "end_time": "2022-11-01T06:35:26.274947Z",
     "start_time": "2022-11-01T06:35:24.874951Z"
    }
   },
   "outputs": [
    {
     "name": "stderr",
     "output_type": "stream",
     "text": [
      "C:\\Users\\skygg\\AppData\\Local\\Temp/ipykernel_26512/4144996465.py:3: SettingWithCopyWarning: \n",
      "A value is trying to be set on a copy of a slice from a DataFrame.\n",
      "Try using .loc[row_indexer,col_indexer] = value instead\n",
      "\n",
      "See the caveats in the documentation: https://pandas.pydata.org/pandas-docs/stable/user_guide/indexing.html#returning-a-view-versus-a-copy\n",
      "  df['라벨'] = encoder.fit_transform(df['분위기'])\n"
     ]
    },
    {
     "data": {
      "text/html": [
       "<div>\n",
       "<style scoped>\n",
       "    .dataframe tbody tr th:only-of-type {\n",
       "        vertical-align: middle;\n",
       "    }\n",
       "\n",
       "    .dataframe tbody tr th {\n",
       "        vertical-align: top;\n",
       "    }\n",
       "\n",
       "    .dataframe thead th {\n",
       "        text-align: right;\n",
       "    }\n",
       "</style>\n",
       "<table border=\"1\" class=\"dataframe\">\n",
       "  <thead>\n",
       "    <tr style=\"text-align: right;\">\n",
       "      <th></th>\n",
       "      <th>상품명</th>\n",
       "      <th>분위기</th>\n",
       "      <th>라벨</th>\n",
       "    </tr>\n",
       "  </thead>\n",
       "  <tbody>\n",
       "    <tr>\n",
       "      <th>0</th>\n",
       "      <td>리버서블 오피스 데스크 책상/테이블 600~2400mm(2colors)</td>\n",
       "      <td>러블리&amp;로맨틱</td>\n",
       "      <td>0</td>\n",
       "    </tr>\n",
       "    <tr>\n",
       "      <th>1</th>\n",
       "      <td>벤트라이크 멀티플 접이식 세발자전거+안전가드</td>\n",
       "      <td>모미내</td>\n",
       "      <td>1</td>\n",
       "    </tr>\n",
       "    <tr>\n",
       "      <th>2</th>\n",
       "      <td>FLENSTED MOBILES 모빌 - 천사 Angel mobile</td>\n",
       "      <td>모미내</td>\n",
       "      <td>1</td>\n",
       "    </tr>\n",
       "    <tr>\n",
       "      <th>3</th>\n",
       "      <td>경추목 메모리폼 숙면 꿀잠 수면 베개_항균탠샐</td>\n",
       "      <td>모미내</td>\n",
       "      <td>1</td>\n",
       "    </tr>\n",
       "    <tr>\n",
       "      <th>4</th>\n",
       "      <td>리스 클래식 법랑 양수냄비 22cm(H)</td>\n",
       "      <td>모미내</td>\n",
       "      <td>1</td>\n",
       "    </tr>\n",
       "    <tr>\n",
       "      <th>...</th>\n",
       "      <td>...</td>\n",
       "      <td>...</td>\n",
       "      <td>...</td>\n",
       "    </tr>\n",
       "    <tr>\n",
       "      <th>95911</th>\n",
       "      <td>실크스크린 아트포스터 3종 Journey Collection 01-03</td>\n",
       "      <td>유니크&amp;믹스매치</td>\n",
       "      <td>4</td>\n",
       "    </tr>\n",
       "    <tr>\n",
       "      <th>95912</th>\n",
       "      <td>HUSVIKA 후스비카 스프링매트리스 603.188.64</td>\n",
       "      <td>유니크&amp;믹스매치</td>\n",
       "      <td>4</td>\n",
       "    </tr>\n",
       "    <tr>\n",
       "      <th>95913</th>\n",
       "      <td>악세스시리즈01 한정판 아트포스터</td>\n",
       "      <td>유니크&amp;믹스매치</td>\n",
       "      <td>4</td>\n",
       "    </tr>\n",
       "    <tr>\n",
       "      <th>95914</th>\n",
       "      <td>[해외]Sand Rug 01</td>\n",
       "      <td>유니크&amp;믹스매치</td>\n",
       "      <td>4</td>\n",
       "    </tr>\n",
       "    <tr>\n",
       "      <th>95915</th>\n",
       "      <td>EKRAR 에크라르 스탠드 옷걸이_2</td>\n",
       "      <td>유니크&amp;믹스매치</td>\n",
       "      <td>4</td>\n",
       "    </tr>\n",
       "  </tbody>\n",
       "</table>\n",
       "<p>95916 rows × 3 columns</p>\n",
       "</div>"
      ],
      "text/plain": [
       "                                           상품명       분위기  라벨\n",
       "0      리버서블 오피스 데스크 책상/테이블 600~2400mm(2colors)   러블리&로맨틱   0\n",
       "1                     벤트라이크 멀티플 접이식 세발자전거+안전가드       모미내   1\n",
       "2        FLENSTED MOBILES 모빌 - 천사 Angel mobile       모미내   1\n",
       "3                    경추목 메모리폼 숙면 꿀잠 수면 베개_항균탠샐       모미내   1\n",
       "4                       리스 클래식 법랑 양수냄비 22cm(H)       모미내   1\n",
       "...                                        ...       ...  ..\n",
       "95911  실크스크린 아트포스터 3종 Journey Collection 01-03  유니크&믹스매치   4\n",
       "95912          HUSVIKA 후스비카 스프링매트리스 603.188.64  유니크&믹스매치   4\n",
       "95913                      악세스시리즈01 한정판 아트포스터   유니크&믹스매치   4\n",
       "95914                          [해외]Sand Rug 01  유니크&믹스매치   4\n",
       "95915                     EKRAR 에크라르 스탠드 옷걸이_2  유니크&믹스매치   4\n",
       "\n",
       "[95916 rows x 3 columns]"
      ]
     },
     "execution_count": 3,
     "metadata": {},
     "output_type": "execute_result"
    }
   ],
   "source": [
    "from sklearn.preprocessing import LabelEncoder\n",
    "encoder = LabelEncoder()\n",
    "df['라벨'] = encoder.fit_transform(df['분위기'])\n",
    "df"
   ]
  },
  {
   "cell_type": "code",
   "execution_count": 4,
   "id": "9f3aa1d5",
   "metadata": {
    "ExecuteTime": {
     "end_time": "2022-11-01T06:35:28.304893Z",
     "start_time": "2022-11-01T06:35:28.284892Z"
    }
   },
   "outputs": [],
   "source": [
    "# 텍스트 전처리\n",
    "def text_preprocessor(s):\n",
    "    import re\n",
    "\n",
    "    pattern = r'\\([^)]*\\)'  # ()\n",
    "    s = re.sub(pattern=pattern, repl='', string=s)\n",
    "    \n",
    "    pattern = r'\\[[^)]*\\]'  # []\n",
    "    s = re.sub(pattern=pattern, repl='', string=s)\n",
    "    \n",
    "    pattern = r'[^a-zA-Z가-힣]'\n",
    "    s = re.sub(pattern=pattern, repl=' ', string=s)\n",
    "\n",
    "    \n",
    "    pattern = r'[0-9]+' # 숫자제거\n",
    "    s = re.sub(pattern=pattern, repl='', string=s)\n",
    "    \n",
    "    \n",
    "    stop_words = ['mm', 'cm', 'km', 'ml', 'kg', 'g', 'colors', 'color', 'size', '개', '인테리어', 'type', '세트', 'ss', 'set']\n",
    "    for s_w in stop_words:\n",
    "        s = s.lower() # 대문자를 소문자로 변환\n",
    "        s = s.replace(s_w, '')\n",
    "\n",
    "    return s"
   ]
  },
  {
   "cell_type": "code",
   "execution_count": 5,
   "id": "10b9bbcb",
   "metadata": {
    "ExecuteTime": {
     "end_time": "2022-11-01T06:35:32.450272Z",
     "start_time": "2022-11-01T06:35:30.806271Z"
    }
   },
   "outputs": [
    {
     "name": "stderr",
     "output_type": "stream",
     "text": [
      "C:\\Users\\skygg\\AppData\\Local\\Temp/ipykernel_26512/4135473516.py:1: SettingWithCopyWarning: \n",
      "A value is trying to be set on a copy of a slice from a DataFrame.\n",
      "Try using .loc[row_indexer,col_indexer] = value instead\n",
      "\n",
      "See the caveats in the documentation: https://pandas.pydata.org/pandas-docs/stable/user_guide/indexing.html#returning-a-view-versus-a-copy\n",
      "  df['상품명'] = df['상품명'].apply(text_preprocessor)\n"
     ]
    }
   ],
   "source": [
    "df['상품명'] = df['상품명'].apply(text_preprocessor)"
   ]
  },
  {
   "cell_type": "code",
   "execution_count": 6,
   "id": "adb7ed2f",
   "metadata": {
    "ExecuteTime": {
     "end_time": "2022-11-01T06:35:34.748959Z",
     "start_time": "2022-11-01T06:35:34.731957Z"
    }
   },
   "outputs": [
    {
     "data": {
      "text/html": [
       "<div>\n",
       "<style scoped>\n",
       "    .dataframe tbody tr th:only-of-type {\n",
       "        vertical-align: middle;\n",
       "    }\n",
       "\n",
       "    .dataframe tbody tr th {\n",
       "        vertical-align: top;\n",
       "    }\n",
       "\n",
       "    .dataframe thead th {\n",
       "        text-align: right;\n",
       "    }\n",
       "</style>\n",
       "<table border=\"1\" class=\"dataframe\">\n",
       "  <thead>\n",
       "    <tr style=\"text-align: right;\">\n",
       "      <th></th>\n",
       "      <th>상품명</th>\n",
       "      <th>분위기</th>\n",
       "      <th>라벨</th>\n",
       "    </tr>\n",
       "  </thead>\n",
       "  <tbody>\n",
       "    <tr>\n",
       "      <th>0</th>\n",
       "      <td>리버서블 오피스 데스크 책상 테이블</td>\n",
       "      <td>러블리&amp;로맨틱</td>\n",
       "      <td>0</td>\n",
       "    </tr>\n",
       "    <tr>\n",
       "      <th>1</th>\n",
       "      <td>벤트라이크 멀티플 접이식 세발자전거 안전가드</td>\n",
       "      <td>모미내</td>\n",
       "      <td>1</td>\n",
       "    </tr>\n",
       "    <tr>\n",
       "      <th>2</th>\n",
       "      <td>flensted mobiles 모빌   천사 anel mobile</td>\n",
       "      <td>모미내</td>\n",
       "      <td>1</td>\n",
       "    </tr>\n",
       "    <tr>\n",
       "      <th>3</th>\n",
       "      <td>경추목 메모리폼 숙면 꿀잠 수면 베 항균탠샐</td>\n",
       "      <td>모미내</td>\n",
       "      <td>1</td>\n",
       "    </tr>\n",
       "    <tr>\n",
       "      <th>4</th>\n",
       "      <td>리스 클래식 법랑 양수냄비</td>\n",
       "      <td>모미내</td>\n",
       "      <td>1</td>\n",
       "    </tr>\n",
       "    <tr>\n",
       "      <th>...</th>\n",
       "      <td>...</td>\n",
       "      <td>...</td>\n",
       "      <td>...</td>\n",
       "    </tr>\n",
       "    <tr>\n",
       "      <th>95911</th>\n",
       "      <td>실크스크린 아트포스터  종 journey collection</td>\n",
       "      <td>유니크&amp;믹스매치</td>\n",
       "      <td>4</td>\n",
       "    </tr>\n",
       "    <tr>\n",
       "      <th>95912</th>\n",
       "      <td>husvika 후스비카 스프링매트리스</td>\n",
       "      <td>유니크&amp;믹스매치</td>\n",
       "      <td>4</td>\n",
       "    </tr>\n",
       "    <tr>\n",
       "      <th>95913</th>\n",
       "      <td>악세스시리즈   한정판 아트포스터</td>\n",
       "      <td>유니크&amp;믹스매치</td>\n",
       "      <td>4</td>\n",
       "    </tr>\n",
       "    <tr>\n",
       "      <th>95914</th>\n",
       "      <td>sand ru</td>\n",
       "      <td>유니크&amp;믹스매치</td>\n",
       "      <td>4</td>\n",
       "    </tr>\n",
       "    <tr>\n",
       "      <th>95915</th>\n",
       "      <td>ekrar 에크라르 스탠드 옷걸이</td>\n",
       "      <td>유니크&amp;믹스매치</td>\n",
       "      <td>4</td>\n",
       "    </tr>\n",
       "  </tbody>\n",
       "</table>\n",
       "<p>95916 rows × 3 columns</p>\n",
       "</div>"
      ],
      "text/plain": [
       "                                           상품명       분위기  라벨\n",
       "0                 리버서블 오피스 데스크 책상 테이블            러블리&로맨틱   0\n",
       "1                     벤트라이크 멀티플 접이식 세발자전거 안전가드       모미내   1\n",
       "2         flensted mobiles 모빌   천사 anel mobile       모미내   1\n",
       "3                     경추목 메모리폼 숙면 꿀잠 수면 베 항균탠샐       모미내   1\n",
       "4                            리스 클래식 법랑 양수냄비          모미내   1\n",
       "...                                        ...       ...  ..\n",
       "95911  실크스크린 아트포스터  종 journey collection        유니크&믹스매치   4\n",
       "95912          husvika 후스비카 스프링매트리스             유니크&믹스매치   4\n",
       "95913                      악세스시리즈   한정판 아트포스터   유니크&믹스매치   4\n",
       "95914                               sand ru     유니크&믹스매치   4\n",
       "95915                     ekrar 에크라르 스탠드 옷걸이    유니크&믹스매치   4\n",
       "\n",
       "[95916 rows x 3 columns]"
      ]
     },
     "execution_count": 6,
     "metadata": {},
     "output_type": "execute_result"
    }
   ],
   "source": [
    "df"
   ]
  },
  {
   "cell_type": "code",
   "execution_count": 7,
   "id": "b0b54f5f",
   "metadata": {
    "ExecuteTime": {
     "end_time": "2022-11-01T06:35:39.591677Z",
     "start_time": "2022-11-01T06:35:39.559968Z"
    }
   },
   "outputs": [],
   "source": [
    "prd_name = list(df['상품명'])\n",
    "label = list(df['라벨'])"
   ]
  },
  {
   "cell_type": "code",
   "execution_count": 8,
   "id": "54f895c6",
   "metadata": {
    "ExecuteTime": {
     "end_time": "2022-11-01T06:35:41.919921Z",
     "start_time": "2022-11-01T06:35:40.828086Z"
    }
   },
   "outputs": [],
   "source": [
    "from sklearn.feature_extraction.text import TfidfVectorizer\n",
    "vectorizer = TfidfVectorizer()\n",
    "x = vectorizer.fit_transform(prd_name)\n",
    "y = np.array(label)"
   ]
  },
  {
   "cell_type": "code",
   "execution_count": 9,
   "id": "117883c6",
   "metadata": {
    "ExecuteTime": {
     "end_time": "2022-11-01T06:35:49.947954Z",
     "start_time": "2022-11-01T06:35:49.866098Z"
    }
   },
   "outputs": [],
   "source": [
    "from sklearn.model_selection import train_test_split\n",
    "import numpy as np\n",
    "\n",
    "from sklearn.model_selection import train_test_split\n",
    "x_train, x_test , y_train , y_test = train_test_split(x, y, test_size =0.2, random_state = 42)"
   ]
  },
  {
   "cell_type": "code",
   "execution_count": 10,
   "id": "af7618d0",
   "metadata": {
    "ExecuteTime": {
     "end_time": "2022-11-01T06:35:55.757268Z",
     "start_time": "2022-11-01T06:35:55.743271Z"
    }
   },
   "outputs": [],
   "source": [
    "# word_count = pd.DataFrame({\n",
    "#     '단어':vectorizer.get_feature_names_out(),\n",
    "#     '가중치': x.sum(axis=0).flat\n",
    "# })\n",
    "\n",
    "# word_count.sort_values('가중치', ascending=False)"
   ]
  },
  {
   "cell_type": "code",
   "execution_count": 11,
   "id": "8e366263",
   "metadata": {
    "ExecuteTime": {
     "end_time": "2022-11-01T06:36:12.416064Z",
     "start_time": "2022-11-01T06:35:57.553932Z"
    }
   },
   "outputs": [
    {
     "name": "stderr",
     "output_type": "stream",
     "text": [
      "C:\\Users\\skygg\\anaconda3\\envs\\nlp_test\\lib\\site-packages\\sklearn\\linear_model\\_logistic.py:814: ConvergenceWarning: lbfgs failed to converge (status=1):\n",
      "STOP: TOTAL NO. of ITERATIONS REACHED LIMIT.\n",
      "\n",
      "Increase the number of iterations (max_iter) or scale the data as shown in:\n",
      "    https://scikit-learn.org/stable/modules/preprocessing.html\n",
      "Please also refer to the documentation for alternative solver options:\n",
      "    https://scikit-learn.org/stable/modules/linear_model.html#logistic-regression\n",
      "  n_iter_i = _check_optimize_result(\n"
     ]
    },
    {
     "data": {
      "text/plain": [
       "LogisticRegression()"
      ]
     },
     "execution_count": 11,
     "metadata": {},
     "output_type": "execute_result"
    }
   ],
   "source": [
    "from sklearn.linear_model import LogisticRegression\n",
    "model = LogisticRegression() \n",
    "model.fit(x_train, y_train)"
   ]
  },
  {
   "cell_type": "code",
   "execution_count": 12,
   "id": "9c8e551b",
   "metadata": {
    "ExecuteTime": {
     "end_time": "2022-11-01T06:36:15.166765Z",
     "start_time": "2022-11-01T06:36:15.141766Z"
    }
   },
   "outputs": [
    {
     "name": "stdout",
     "output_type": "stream",
     "text": [
      "Accuracy: 0.6459028356964137\n"
     ]
    }
   ],
   "source": [
    "print(\"Accuracy: {}\".format(model.score(x_test, y_test)))"
   ]
  },
  {
   "cell_type": "markdown",
   "id": "a453ffdb",
   "metadata": {
    "ExecuteTime": {
     "end_time": "2022-11-01T06:17:20.693968Z",
     "start_time": "2022-11-01T06:17:20.687968Z"
    }
   },
   "source": [
    "모미내가 전체 데이터에서 64%정도를 차지한다. 이 정도면 모미내만 맞추고 나머지는..."
   ]
  },
  {
   "cell_type": "code",
   "execution_count": 13,
   "id": "f3949e12",
   "metadata": {
    "ExecuteTime": {
     "end_time": "2022-11-01T06:36:18.443074Z",
     "start_time": "2022-11-01T06:36:17.436079Z"
    }
   },
   "outputs": [],
   "source": [
    "from sklearn.feature_extraction.text import CountVectorizer\n",
    "# 문서 단어 행렬\n",
    "cv = CountVectorizer()\n",
    "dtm = cv.fit_transform (prd_name)"
   ]
  },
  {
   "cell_type": "code",
   "execution_count": 14,
   "id": "89dcb13d",
   "metadata": {
    "ExecuteTime": {
     "end_time": "2022-11-01T06:36:20.054591Z",
     "start_time": "2022-11-01T06:36:19.972592Z"
    }
   },
   "outputs": [
    {
     "data": {
      "text/html": [
       "<div>\n",
       "<style scoped>\n",
       "    .dataframe tbody tr th:only-of-type {\n",
       "        vertical-align: middle;\n",
       "    }\n",
       "\n",
       "    .dataframe tbody tr th {\n",
       "        vertical-align: top;\n",
       "    }\n",
       "\n",
       "    .dataframe thead th {\n",
       "        text-align: right;\n",
       "    }\n",
       "</style>\n",
       "<table border=\"1\" class=\"dataframe\">\n",
       "  <thead>\n",
       "    <tr style=\"text-align: right;\">\n",
       "      <th></th>\n",
       "      <th>단어</th>\n",
       "      <th>빈도</th>\n",
       "    </tr>\n",
       "  </thead>\n",
       "  <tbody>\n",
       "    <tr>\n",
       "      <th>58547</th>\n",
       "      <td>화이트</td>\n",
       "      <td>3280</td>\n",
       "    </tr>\n",
       "    <tr>\n",
       "      <th>42773</th>\n",
       "      <td>원목</td>\n",
       "      <td>2967</td>\n",
       "    </tr>\n",
       "    <tr>\n",
       "      <th>52521</th>\n",
       "      <td>테이블</td>\n",
       "      <td>2198</td>\n",
       "    </tr>\n",
       "    <tr>\n",
       "      <th>42148</th>\n",
       "      <td>우드</td>\n",
       "      <td>2074</td>\n",
       "    </tr>\n",
       "    <tr>\n",
       "      <th>43055</th>\n",
       "      <td>원형</td>\n",
       "      <td>1723</td>\n",
       "    </tr>\n",
       "    <tr>\n",
       "      <th>...</th>\n",
       "      <td>...</td>\n",
       "      <td>...</td>\n",
       "    </tr>\n",
       "    <tr>\n",
       "      <th>26633</th>\n",
       "      <td>미디어정리함</td>\n",
       "      <td>1</td>\n",
       "    </tr>\n",
       "    <tr>\n",
       "      <th>26637</th>\n",
       "      <td>미디엄블루</td>\n",
       "      <td>1</td>\n",
       "    </tr>\n",
       "    <tr>\n",
       "      <th>26638</th>\n",
       "      <td>미디엄소프트</td>\n",
       "      <td>1</td>\n",
       "    </tr>\n",
       "    <tr>\n",
       "      <th>26639</th>\n",
       "      <td>미디엄워머</td>\n",
       "      <td>1</td>\n",
       "    </tr>\n",
       "    <tr>\n",
       "      <th>31441</th>\n",
       "      <td>사각브래드접시</td>\n",
       "      <td>1</td>\n",
       "    </tr>\n",
       "  </tbody>\n",
       "</table>\n",
       "<p>59262 rows × 2 columns</p>\n",
       "</div>"
      ],
      "text/plain": [
       "            단어    빈도\n",
       "58547      화이트  3280\n",
       "42773       원목  2967\n",
       "52521      테이블  2198\n",
       "42148       우드  2074\n",
       "43055       원형  1723\n",
       "...        ...   ...\n",
       "26633   미디어정리함     1\n",
       "26637    미디엄블루     1\n",
       "26638   미디엄소프트     1\n",
       "26639    미디엄워머     1\n",
       "31441  사각브래드접시     1\n",
       "\n",
       "[59262 rows x 2 columns]"
      ]
     },
     "execution_count": 14,
     "metadata": {},
     "output_type": "execute_result"
    }
   ],
   "source": [
    "word_count = pd.DataFrame({\n",
    "    '단어':cv.get_feature_names_out(),\n",
    "    '빈도': dtm.sum(axis=0).flat\n",
    "})\n",
    "\n",
    "word_count.sort_values('빈도', ascending=False)"
   ]
  },
  {
   "cell_type": "code",
   "execution_count": 18,
   "id": "dda76791",
   "metadata": {
    "ExecuteTime": {
     "end_time": "2022-11-01T06:37:38.962766Z",
     "start_time": "2022-11-01T06:37:37.592769Z"
    }
   },
   "outputs": [
    {
     "data": {
      "image/png": "[encoded data removed]",
      "text/plain": [
       "<PIL.Image.Image image mode=RGB size=400x300 at 0x1BD1EA294F0>"
      ]
     },
     "execution_count": 18,
     "metadata": {},
     "output_type": "execute_result"
    }
   ],
   "source": [
    "from wordcloud import WordCloud\n",
    "count_dic = dict(zip(word_count.단어, word_count.빈도))\n",
    "wc = WordCloud(font_path='NanumGothic.ttf',\n",
    "  background_color='white',    # 배경색\n",
    "  max_words=100,               # 시각화할 단어 개수,\n",
    "  width=400,                   # 가로 크기\n",
    "  height=300)                  # 세로 크기\n",
    "cloud = wc.fit_words(count_dic)\n",
    "cloud.to_image() "
   ]
  },
  {
   "cell_type": "code",
   "execution_count": null,
   "id": "ebf9e634",
   "metadata": {},
   "outputs": [],
   "source": []
  }
 ],
 "metadata": {
  "kernelspec": {
   "display_name": "Python 3 (ipykernel)",
   "language": "python",
   "name": "python3"
  },
  "language_info": {
   "codemirror_mode": {
    "name": "ipython",
    "version": 3
   },
   "file_extension": ".py",
   "mimetype": "text/x-python",
   "name": "python",
   "nbconvert_exporter": "python",
   "pygments_lexer": "ipython3",
   "version": "3.8.12"
  },
  "toc": {
   "base_numbering": 1,
   "nav_menu": {},
   "number_sections": false,
   "sideBar": true,
   "skip_h1_title": false,
   "title_cell": "Table of Contents",
   "title_sidebar": "Contents",
   "toc_cell": false,
   "toc_position": {},
   "toc_section_display": true,
   "toc_window_display": false
  },
  "varInspector": {
   "cols": {
    "lenName": 16,
    "lenType": 16,
    "lenVar": 40
   },
   "kernels_config": {
    "python": {
     "delete_cmd_postfix": "",
     "delete_cmd_prefix": "del ",
     "library": "var_list.py",
     "varRefreshCmd": "print(var_dic_list())"
    },
    "r": {
     "delete_cmd_postfix": ") ",
     "delete_cmd_prefix": "rm(",
     "library": "var_list.r",
     "varRefreshCmd": "cat(var_dic_list()) "
    }
   },
   "types_to_exclude": [
    "module",
    "function",
    "builtin_function_or_method",
    "instance",
    "_Feature"
   ],
   "window_display": false
  }
 },
 "nbformat": 4,
 "nbformat_minor": 5
}
