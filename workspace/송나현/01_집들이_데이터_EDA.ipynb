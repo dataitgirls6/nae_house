{
  "cells": [
    {
      "cell_type": "code",
      "execution_count": 247,
      "metadata": {
        "colab": {
          "base_uri": "https://localhost:8080/",
          "height": 798
        },
        "id": "V7_GHUVMigVU",
        "outputId": "8056f321-9b06-4f00-929c-49ce2f31825e"
      },
      "outputs": [
        {
          "data": {
            "text/html": [
              "\n",
              "  <div id=\"df-4a24ca32-2171-4455-8e63-0e6b93bdbb88\">\n",
              "    <div class=\"colab-df-container\">\n",
              "      <div>\n",
              "<style scoped>\n",
              "    .dataframe tbody tr th:only-of-type {\n",
              "        vertical-align: middle;\n",
              "    }\n",
              "\n",
              "    .dataframe tbody tr th {\n",
              "        vertical-align: top;\n",
              "    }\n",
              "\n",
              "    .dataframe thead th {\n",
              "        text-align: right;\n",
              "    }\n",
              "</style>\n",
              "<table border=\"1\" class=\"dataframe\">\n",
              "  <thead>\n",
              "    <tr style=\"text-align: right;\">\n",
              "      <th></th>\n",
              "      <th>id</th>\n",
              "      <th>작성일</th>\n",
              "      <th>제목</th>\n",
              "      <th>가족형태</th>\n",
              "      <th>공간</th>\n",
              "      <th>평수구간</th>\n",
              "      <th>스타일</th>\n",
              "      <th>세부공사</th>\n",
              "      <th>분야</th>\n",
              "      <th>작업</th>\n",
              "      <th>예산</th>\n",
              "      <th>조회</th>\n",
              "      <th>스크랩</th>\n",
              "      <th>좋아요</th>\n",
              "      <th>댓글</th>\n",
              "      <th>url</th>\n",
              "    </tr>\n",
              "  </thead>\n",
              "  <tbody>\n",
              "    <tr>\n",
              "      <th>0</th>\n",
              "      <td>0</td>\n",
              "      <td>2022-10-07</td>\n",
              "      <td>서재형 거실부터 베란다 아뜰리에까지! 센스만점 오베네홈</td>\n",
              "      <td>아기가 있는 집</td>\n",
              "      <td>아파트</td>\n",
              "      <td>35</td>\n",
              "      <td>내추럴</td>\n",
              "      <td>0</td>\n",
              "      <td>리모델링</td>\n",
              "      <td>전문가</td>\n",
              "      <td>0</td>\n",
              "      <td>10513</td>\n",
              "      <td>136</td>\n",
              "      <td>57</td>\n",
              "      <td>15</td>\n",
              "      <td>https://ohou.se/projects/126917/detail?affect_...</td>\n",
              "    </tr>\n",
              "    <tr>\n",
              "      <th>1</th>\n",
              "      <td>1</td>\n",
              "      <td>2022-10-07</td>\n",
              "      <td>구축 2Bay 리모델링의 바이블, 모던한 32평 신혼집</td>\n",
              "      <td>신혼부부</td>\n",
              "      <td>아파트</td>\n",
              "      <td>35</td>\n",
              "      <td>모던</td>\n",
              "      <td>주방리모델링, 조명시공, 중문, 가벽&amp;파티션, 슬라이딩도어</td>\n",
              "      <td>리모델링</td>\n",
              "      <td>전문가</td>\n",
              "      <td>4200</td>\n",
              "      <td>5610</td>\n",
              "      <td>75</td>\n",
              "      <td>26</td>\n",
              "      <td>12</td>\n",
              "      <td>https://ohou.se/projects/126600/detail?affect_...</td>\n",
              "    </tr>\n",
              "    <tr>\n",
              "      <th>2</th>\n",
              "      <td>2</td>\n",
              "      <td>2022-10-07</td>\n",
              "      <td>취향을 읽고 쓰는 비밀 서재처럼- 푸릇푸릇 3평 방</td>\n",
              "      <td>부모님과 함께 사는 집</td>\n",
              "      <td>기타</td>\n",
              "      <td>5</td>\n",
              "      <td>내추럴</td>\n",
              "      <td>0</td>\n",
              "      <td>홈스타일링</td>\n",
              "      <td>셀프•DIY</td>\n",
              "      <td>0</td>\n",
              "      <td>4214</td>\n",
              "      <td>201</td>\n",
              "      <td>60</td>\n",
              "      <td>15</td>\n",
              "      <td>https://ohou.se/projects/123056/detail?affect_...</td>\n",
              "    </tr>\n",
              "    <tr>\n",
              "      <th>3</th>\n",
              "      <td>3</td>\n",
              "      <td>2022-10-07</td>\n",
              "      <td>손 뻗으면 닿을 듯한 녹음🌳 싱그러운 저층집 리모델링</td>\n",
              "      <td>신혼부부</td>\n",
              "      <td>아파트</td>\n",
              "      <td>35</td>\n",
              "      <td>모던</td>\n",
              "      <td>주방리모델링, 조명시공, 중문</td>\n",
              "      <td>리모델링</td>\n",
              "      <td>전문가</td>\n",
              "      <td>5500</td>\n",
              "      <td>37375</td>\n",
              "      <td>643</td>\n",
              "      <td>169</td>\n",
              "      <td>122</td>\n",
              "      <td>https://ohou.se/projects/116945/detail?affect_...</td>\n",
              "    </tr>\n",
              "    <tr>\n",
              "      <th>4</th>\n",
              "      <td>4</td>\n",
              "      <td>2022-10-07</td>\n",
              "      <td>아늑하고 편안한 무드로- 빈티지 한 스푼 더한 내추럴홈</td>\n",
              "      <td>신혼부부</td>\n",
              "      <td>아파트</td>\n",
              "      <td>55</td>\n",
              "      <td>내추럴</td>\n",
              "      <td>주방리모델링, 중문</td>\n",
              "      <td>리모델링</td>\n",
              "      <td>전문가</td>\n",
              "      <td>9500</td>\n",
              "      <td>3760</td>\n",
              "      <td>73</td>\n",
              "      <td>13</td>\n",
              "      <td>9</td>\n",
              "      <td>https://ohou.se/projects/127436/detail?affect_...</td>\n",
              "    </tr>\n",
              "    <tr>\n",
              "      <th>...</th>\n",
              "      <td>...</td>\n",
              "      <td>...</td>\n",
              "      <td>...</td>\n",
              "      <td>...</td>\n",
              "      <td>...</td>\n",
              "      <td>...</td>\n",
              "      <td>...</td>\n",
              "      <td>...</td>\n",
              "      <td>...</td>\n",
              "      <td>...</td>\n",
              "      <td>...</td>\n",
              "      <td>...</td>\n",
              "      <td>...</td>\n",
              "      <td>...</td>\n",
              "      <td>...</td>\n",
              "      <td>...</td>\n",
              "    </tr>\n",
              "    <tr>\n",
              "      <th>4895</th>\n",
              "      <td>4895</td>\n",
              "      <td>2019-10-27</td>\n",
              "      <td>25년 된 신혼집 반셀프 인테리어 도전기</td>\n",
              "      <td>신혼부부</td>\n",
              "      <td>아파트</td>\n",
              "      <td>35</td>\n",
              "      <td>모던, 미니멀&amp;심플, 북유럽</td>\n",
              "      <td>주방리모델링, 조명시공, 중문, 가벽&amp;파티션, 슬라이딩도어</td>\n",
              "      <td>리모델링</td>\n",
              "      <td>반셀프</td>\n",
              "      <td>3000</td>\n",
              "      <td>82539</td>\n",
              "      <td>2865</td>\n",
              "      <td>723</td>\n",
              "      <td>67</td>\n",
              "      <td>https://ohou.se/projects/17105/detail?affect_t...</td>\n",
              "    </tr>\n",
              "    <tr>\n",
              "      <th>4896</th>\n",
              "      <td>4896</td>\n",
              "      <td>2019-10-26</td>\n",
              "      <td>애정 가득 신혼집 : 작은 평수 아파트도 넓고 쾌적하게</td>\n",
              "      <td>신혼부부</td>\n",
              "      <td>아파트</td>\n",
              "      <td>25</td>\n",
              "      <td>모던, 미니멀&amp;심플</td>\n",
              "      <td>조명시공, 중문</td>\n",
              "      <td>부분공사</td>\n",
              "      <td>반셀프</td>\n",
              "      <td>500</td>\n",
              "      <td>45480</td>\n",
              "      <td>713</td>\n",
              "      <td>236</td>\n",
              "      <td>30</td>\n",
              "      <td>https://ohou.se/projects/16242/detail?affect_t...</td>\n",
              "    </tr>\n",
              "    <tr>\n",
              "      <th>4897</th>\n",
              "      <td>4897</td>\n",
              "      <td>2019-10-26</td>\n",
              "      <td>제주, 그리고 우리 셋 삶의 공간</td>\n",
              "      <td>아기가 있는 집</td>\n",
              "      <td>빌라&amp;연립</td>\n",
              "      <td>35</td>\n",
              "      <td>미니멀&amp;심플</td>\n",
              "      <td>조명시공</td>\n",
              "      <td>홈스타일링</td>\n",
              "      <td>전문가</td>\n",
              "      <td>0</td>\n",
              "      <td>39918</td>\n",
              "      <td>350</td>\n",
              "      <td>201</td>\n",
              "      <td>22</td>\n",
              "      <td>https://ohou.se/projects/15965/detail?affect_t...</td>\n",
              "    </tr>\n",
              "    <tr>\n",
              "      <th>4898</th>\n",
              "      <td>4898</td>\n",
              "      <td>2019-10-26</td>\n",
              "      <td>지금의 행복을 택하는 건 꽤 의미있는 투자일지도 몰라요</td>\n",
              "      <td>아기가 있는 집</td>\n",
              "      <td>아파트</td>\n",
              "      <td>25</td>\n",
              "      <td>미니멀&amp;심플, 내추럴</td>\n",
              "      <td>주방리모델링, 중문, 슬라이딩도어</td>\n",
              "      <td>리모델링</td>\n",
              "      <td>전문가</td>\n",
              "      <td>0</td>\n",
              "      <td>94423</td>\n",
              "      <td>2529</td>\n",
              "      <td>980</td>\n",
              "      <td>88</td>\n",
              "      <td>https://ohou.se/projects/7660/detail?affect_ty...</td>\n",
              "    </tr>\n",
              "    <tr>\n",
              "      <th>4899</th>\n",
              "      <td>4899</td>\n",
              "      <td>2019-10-26</td>\n",
              "      <td>꿈꾸던 신혼집을 만들어가다 #게다가_2층집</td>\n",
              "      <td>신혼부부</td>\n",
              "      <td>기타</td>\n",
              "      <td>35</td>\n",
              "      <td>모던</td>\n",
              "      <td>0</td>\n",
              "      <td>리모델링</td>\n",
              "      <td>전문가</td>\n",
              "      <td>0</td>\n",
              "      <td>53937</td>\n",
              "      <td>958</td>\n",
              "      <td>507</td>\n",
              "      <td>57</td>\n",
              "      <td>https://ohou.se/projects/7490/detail?affect_ty...</td>\n",
              "    </tr>\n",
              "  </tbody>\n",
              "</table>\n",
              "<p>4900 rows × 16 columns</p>\n",
              "</div>\n",
              "      <button class=\"colab-df-convert\" onclick=\"convertToInteractive('df-4a24ca32-2171-4455-8e63-0e6b93bdbb88')\"\n",
              "              title=\"Convert this dataframe to an interactive table.\"\n",
              "              style=\"display:none;\">\n",
              "        \n",
              "  <svg xmlns=\"http://www.w3.org/2000/svg\" height=\"24px\"viewBox=\"0 0 24 24\"\n",
              "       width=\"24px\">\n",
              "    <path d=\"M0 0h24v24H0V0z\" fill=\"none\"/>\n",
              "    <path d=\"M18.56 5.44l.94 2.06.94-2.06 2.06-.94-2.06-.94-.94-2.06-.94 2.06-2.06.94zm-11 1L8.5 8.5l.94-2.06 2.06-.94-2.06-.94L8.5 2.5l-.94 2.06-2.06.94zm10 10l.94 2.06.94-2.06 2.06-.94-2.06-.94-.94-2.06-.94 2.06-2.06.94z\"/><path d=\"M17.41 7.96l-1.37-1.37c-.4-.4-.92-.59-1.43-.59-.52 0-1.04.2-1.43.59L10.3 9.45l-7.72 7.72c-.78.78-.78 2.05 0 2.83L4 21.41c.39.39.9.59 1.41.59.51 0 1.02-.2 1.41-.59l7.78-7.78 2.81-2.81c.8-.78.8-2.07 0-2.86zM5.41 20L4 18.59l7.72-7.72 1.47 1.35L5.41 20z\"/>\n",
              "  </svg>\n",
              "      </button>\n",
              "      \n",
              "  <style>\n",
              "    .colab-df-container {\n",
              "      display:flex;\n",
              "      flex-wrap:wrap;\n",
              "      gap: 12px;\n",
              "    }\n",
              "\n",
              "    .colab-df-convert {\n",
              "      background-color: #E8F0FE;\n",
              "      border: none;\n",
              "      border-radius: 50%;\n",
              "      cursor: pointer;\n",
              "      display: none;\n",
              "      fill: #1967D2;\n",
              "      height: 32px;\n",
              "      padding: 0 0 0 0;\n",
              "      width: 32px;\n",
              "    }\n",
              "\n",
              "    .colab-df-convert:hover {\n",
              "      background-color: #E2EBFA;\n",
              "      box-shadow: 0px 1px 2px rgba(60, 64, 67, 0.3), 0px 1px 3px 1px rgba(60, 64, 67, 0.15);\n",
              "      fill: #174EA6;\n",
              "    }\n",
              "\n",
              "    [theme=dark] .colab-df-convert {\n",
              "      background-color: #3B4455;\n",
              "      fill: #D2E3FC;\n",
              "    }\n",
              "\n",
              "    [theme=dark] .colab-df-convert:hover {\n",
              "      background-color: #434B5C;\n",
              "      box-shadow: 0px 1px 3px 1px rgba(0, 0, 0, 0.15);\n",
              "      filter: drop-shadow(0px 1px 2px rgba(0, 0, 0, 0.3));\n",
              "      fill: #FFFFFF;\n",
              "    }\n",
              "  </style>\n",
              "\n",
              "      <script>\n",
              "        const buttonEl =\n",
              "          document.querySelector('#df-4a24ca32-2171-4455-8e63-0e6b93bdbb88 button.colab-df-convert');\n",
              "        buttonEl.style.display =\n",
              "          google.colab.kernel.accessAllowed ? 'block' : 'none';\n",
              "\n",
              "        async function convertToInteractive(key) {\n",
              "          const element = document.querySelector('#df-4a24ca32-2171-4455-8e63-0e6b93bdbb88');\n",
              "          const dataTable =\n",
              "            await google.colab.kernel.invokeFunction('convertToInteractive',\n",
              "                                                     [key], {});\n",
              "          if (!dataTable) return;\n",
              "\n",
              "          const docLinkHtml = 'Like what you see? Visit the ' +\n",
              "            '<a target=\"_blank\" href=https://colab.research.google.com/notebooks/data_table.ipynb>data table notebook</a>'\n",
              "            + ' to learn more about interactive tables.';\n",
              "          element.innerHTML = '';\n",
              "          dataTable['output_type'] = 'display_data';\n",
              "          await google.colab.output.renderOutput(dataTable, element);\n",
              "          const docLink = document.createElement('div');\n",
              "          docLink.innerHTML = docLinkHtml;\n",
              "          element.appendChild(docLink);\n",
              "        }\n",
              "      </script>\n",
              "    </div>\n",
              "  </div>\n",
              "  "
            ],
            "text/plain": [
              "        id         작성일                              제목          가족형태     공간  \\\n",
              "0        0  2022-10-07  서재형 거실부터 베란다 아뜰리에까지! 센스만점 오베네홈      아기가 있는 집    아파트   \n",
              "1        1  2022-10-07  구축 2Bay 리모델링의 바이블, 모던한 32평 신혼집          신혼부부    아파트   \n",
              "2        2  2022-10-07    취향을 읽고 쓰는 비밀 서재처럼- 푸릇푸릇 3평 방  부모님과 함께 사는 집     기타   \n",
              "3        3  2022-10-07   손 뻗으면 닿을 듯한 녹음🌳 싱그러운 저층집 리모델링          신혼부부    아파트   \n",
              "4        4  2022-10-07  아늑하고 편안한 무드로- 빈티지 한 스푼 더한 내추럴홈          신혼부부    아파트   \n",
              "...    ...         ...                             ...           ...    ...   \n",
              "4895  4895  2019-10-27          25년 된 신혼집 반셀프 인테리어 도전기          신혼부부    아파트   \n",
              "4896  4896  2019-10-26  애정 가득 신혼집 : 작은 평수 아파트도 넓고 쾌적하게          신혼부부    아파트   \n",
              "4897  4897  2019-10-26              제주, 그리고 우리 셋 삶의 공간      아기가 있는 집  빌라&연립   \n",
              "4898  4898  2019-10-26  지금의 행복을 택하는 건 꽤 의미있는 투자일지도 몰라요      아기가 있는 집    아파트   \n",
              "4899  4899  2019-10-26         꿈꾸던 신혼집을 만들어가다 #게다가_2층집          신혼부부     기타   \n",
              "\n",
              "      평수구간              스타일                              세부공사     분야      작업  \\\n",
              "0       35              내추럴                                 0   리모델링     전문가   \n",
              "1       35               모던  주방리모델링, 조명시공, 중문, 가벽&파티션, 슬라이딩도어   리모델링     전문가   \n",
              "2        5              내추럴                                 0  홈스타일링  셀프•DIY   \n",
              "3       35               모던                  주방리모델링, 조명시공, 중문   리모델링     전문가   \n",
              "4       55              내추럴                        주방리모델링, 중문   리모델링     전문가   \n",
              "...    ...              ...                               ...    ...     ...   \n",
              "4895    35  모던, 미니멀&심플, 북유럽  주방리모델링, 조명시공, 중문, 가벽&파티션, 슬라이딩도어   리모델링     반셀프   \n",
              "4896    25       모던, 미니멀&심플                          조명시공, 중문   부분공사     반셀프   \n",
              "4897    35           미니멀&심플                              조명시공  홈스타일링     전문가   \n",
              "4898    25      미니멀&심플, 내추럴                주방리모델링, 중문, 슬라이딩도어   리모델링     전문가   \n",
              "4899    35               모던                                 0   리모델링     전문가   \n",
              "\n",
              "        예산     조회   스크랩  좋아요   댓글  \\\n",
              "0        0  10513   136   57   15   \n",
              "1     4200   5610    75   26   12   \n",
              "2        0   4214   201   60   15   \n",
              "3     5500  37375   643  169  122   \n",
              "4     9500   3760    73   13    9   \n",
              "...    ...    ...   ...  ...  ...   \n",
              "4895  3000  82539  2865  723   67   \n",
              "4896   500  45480   713  236   30   \n",
              "4897     0  39918   350  201   22   \n",
              "4898     0  94423  2529  980   88   \n",
              "4899     0  53937   958  507   57   \n",
              "\n",
              "                                                    url  \n",
              "0     https://ohou.se/projects/126917/detail?affect_...  \n",
              "1     https://ohou.se/projects/126600/detail?affect_...  \n",
              "2     https://ohou.se/projects/123056/detail?affect_...  \n",
              "3     https://ohou.se/projects/116945/detail?affect_...  \n",
              "4     https://ohou.se/projects/127436/detail?affect_...  \n",
              "...                                                 ...  \n",
              "4895  https://ohou.se/projects/17105/detail?affect_t...  \n",
              "4896  https://ohou.se/projects/16242/detail?affect_t...  \n",
              "4897  https://ohou.se/projects/15965/detail?affect_t...  \n",
              "4898  https://ohou.se/projects/7660/detail?affect_ty...  \n",
              "4899  https://ohou.se/projects/7490/detail?affect_ty...  \n",
              "\n",
              "[4900 rows x 16 columns]"
            ]
          },
          "execution_count": 247,
          "metadata": {},
          "output_type": "execute_result"
        }
      ],
      "source": [
        "import pandas as pd\n",
        "df = pd.read_csv('/content/housewarming2.csv')\n",
        "df"
      ]
    },
    {
      "cell_type": "markdown",
      "metadata": {
        "id": "Wg-6KrynQOMV"
      },
      "source": [
        "# 부모님과 함께 사는집\n",
        "- 부모님과 함께 사는 집에서 방 한칸만 꾸민 경우 평수를 방 하나 기준으로 입력했는지, 전체 집을 기준으로 입력했는지 확인"
      ]
    },
    {
      "cell_type": "code",
      "execution_count": 248,
      "metadata": {
        "colab": {
          "base_uri": "https://localhost:8080/"
        },
        "id": "2JRKEuunQNdD",
        "outputId": "a8b86b00-666f-4a84-88a5-b82369d55b67"
      },
      "outputs": [
        {
          "data": {
            "text/plain": [
              "array(['아기가 있는 집', '신혼부부', '부모님과 함께 사는 집', '싱글라이프', '기타', '취학 자녀가 있는 집',\n",
              "       '취학 자녀가 있는 집, 기타', '싱글라이프, 기타', '신혼부부, 아기가 있는 집', '신혼부부, 기타',\n",
              "       '아기가 있는 집, 기타', '아기가 있는 집, 취학 자녀가 있는 집',\n",
              "       '취학 자녀가 있는 집, 부모님과 함께 사는 집', '싱글라이프, 부모님과 함께 사는 집',\n",
              "       '부모님과 함께 사는 집, 기타', '싱글라이프, 신혼부부, 기타', '아기가 있는 집, 취학 자녀가 있는 집, 기타',\n",
              "       '아기가 있는 집, 취학 자녀가 있는 집, 부모님과 함께 사는 집', '신혼부부, 부모님과 함께 사는 집',\n",
              "       '신혼부부, 아기가 있는 집, 기타', '아기가 있는 집, 부모님과 함께 사는 집',\n",
              "       '싱글라이프, 부모님과 함께 사는 집, 기타'], dtype=object)"
            ]
          },
          "execution_count": 248,
          "metadata": {},
          "output_type": "execute_result"
        }
      ],
      "source": [
        "df['가족형태'].unique()"
      ]
    },
    {
      "cell_type": "code",
      "execution_count": 249,
      "metadata": {
        "id": "zqk3aR09QkDj"
      },
      "outputs": [],
      "source": [
        "# '부모님과 함께 사는 집' / '싱글라이프, 부모님과 함께 사는 집' / '부모님과 함께 사는 집, 기타' / '취학 자녀가 있는 집, 부모님과 함께 사는 집' / \n",
        "# '아기가 있는 집, 취학 자녀가 있는 집, 부모님과 함께 사는 집' / '신혼부부, 부모님과 함께 사는 집' / '아기가 있는 집, 부모님과 함께 사는 집' / '싱글라이프, 부모님과 함께 사는 집, 기타'"
      ]
    },
    {
      "cell_type": "code",
      "execution_count": 250,
      "metadata": {
        "id": "gVRm58jfRAak"
      },
      "outputs": [],
      "source": [
        "# 평수가 20평보다 크고 부모님과 함께 사는 집에 태그했다면 집 전체를 인테리어 했을 것\n",
        "check_idxs = []\n",
        "for idx in df.index:\n",
        "  if ('부모님과 함께 사는 집' in df['가족형태'][idx]) and (df['평수구간'][idx] > 20) :\n",
        "    check_idxs.append(idx)"
      ]
    },
    {
      "cell_type": "code",
      "execution_count": 251,
      "metadata": {
        "colab": {
          "base_uri": "https://localhost:8080/",
          "height": 798
        },
        "id": "A7ZbEHPg-SeP",
        "outputId": "740dd24e-c8ac-43bd-ec9f-2e6dac0c8cc9"
      },
      "outputs": [
        {
          "data": {
            "text/html": [
              "\n",
              "  <div id=\"df-d73c0426-6f02-48bc-9a8a-111fd7bb1e8e\">\n",
              "    <div class=\"colab-df-container\">\n",
              "      <div>\n",
              "<style scoped>\n",
              "    .dataframe tbody tr th:only-of-type {\n",
              "        vertical-align: middle;\n",
              "    }\n",
              "\n",
              "    .dataframe tbody tr th {\n",
              "        vertical-align: top;\n",
              "    }\n",
              "\n",
              "    .dataframe thead th {\n",
              "        text-align: right;\n",
              "    }\n",
              "</style>\n",
              "<table border=\"1\" class=\"dataframe\">\n",
              "  <thead>\n",
              "    <tr style=\"text-align: right;\">\n",
              "      <th></th>\n",
              "      <th>id</th>\n",
              "      <th>작성일</th>\n",
              "      <th>제목</th>\n",
              "      <th>가족형태</th>\n",
              "      <th>공간</th>\n",
              "      <th>평수구간</th>\n",
              "      <th>스타일</th>\n",
              "      <th>세부공사</th>\n",
              "      <th>분야</th>\n",
              "      <th>작업</th>\n",
              "      <th>예산</th>\n",
              "      <th>조회</th>\n",
              "      <th>스크랩</th>\n",
              "      <th>좋아요</th>\n",
              "      <th>댓글</th>\n",
              "      <th>url</th>\n",
              "    </tr>\n",
              "  </thead>\n",
              "  <tbody>\n",
              "    <tr>\n",
              "      <th>13</th>\n",
              "      <td>13</td>\n",
              "      <td>2022-10-07</td>\n",
              "      <td>모노톤 방안에 담긴 나만의 작은 변화들</td>\n",
              "      <td>부모님과 함께 사는 집</td>\n",
              "      <td>기타</td>\n",
              "      <td>35</td>\n",
              "      <td>모던</td>\n",
              "      <td>0</td>\n",
              "      <td>홈스타일링</td>\n",
              "      <td>셀프•DIY</td>\n",
              "      <td>500</td>\n",
              "      <td>7527</td>\n",
              "      <td>405</td>\n",
              "      <td>84</td>\n",
              "      <td>24</td>\n",
              "      <td>https://ohou.se/projects/126370/detail?affect_...</td>\n",
              "    </tr>\n",
              "    <tr>\n",
              "      <th>43</th>\n",
              "      <td>43</td>\n",
              "      <td>2022-10-01</td>\n",
              "      <td>취향 가득 초록 숲을 꿈꾸는 디자이너의 작은 방</td>\n",
              "      <td>부모님과 함께 사는 집</td>\n",
              "      <td>단독주택</td>\n",
              "      <td>35</td>\n",
              "      <td>0</td>\n",
              "      <td>0</td>\n",
              "      <td>홈스타일링</td>\n",
              "      <td>셀프•DIY</td>\n",
              "      <td>100</td>\n",
              "      <td>7687</td>\n",
              "      <td>487</td>\n",
              "      <td>77</td>\n",
              "      <td>20</td>\n",
              "      <td>https://ohou.se/projects/125835/detail?affect_...</td>\n",
              "    </tr>\n",
              "    <tr>\n",
              "      <th>62</th>\n",
              "      <td>62</td>\n",
              "      <td>2022-10-01</td>\n",
              "      <td>눈높이는 낮추고, 구조도 바꾸고! 동식물과 함께하는 방</td>\n",
              "      <td>부모님과 함께 사는 집</td>\n",
              "      <td>기타</td>\n",
              "      <td>55</td>\n",
              "      <td>내추럴</td>\n",
              "      <td>0</td>\n",
              "      <td>홈스타일링</td>\n",
              "      <td>셀프•DIY</td>\n",
              "      <td>0</td>\n",
              "      <td>5672</td>\n",
              "      <td>252</td>\n",
              "      <td>53</td>\n",
              "      <td>4</td>\n",
              "      <td>https://ohou.se/projects/117749/detail?affect_...</td>\n",
              "    </tr>\n",
              "    <tr>\n",
              "      <th>156</th>\n",
              "      <td>156</td>\n",
              "      <td>2022-09-11</td>\n",
              "      <td>온전히 쉴 수 있는 나만의 공간 (feat. 패브릭)</td>\n",
              "      <td>부모님과 함께 사는 집</td>\n",
              "      <td>기타</td>\n",
              "      <td>45</td>\n",
              "      <td>빈티지&amp;레트로</td>\n",
              "      <td>0</td>\n",
              "      <td>홈스타일링</td>\n",
              "      <td>셀프•DIY</td>\n",
              "      <td>0</td>\n",
              "      <td>8189</td>\n",
              "      <td>173</td>\n",
              "      <td>33</td>\n",
              "      <td>20</td>\n",
              "      <td>https://ohou.se/projects/121689/detail?affect_...</td>\n",
              "    </tr>\n",
              "    <tr>\n",
              "      <th>245</th>\n",
              "      <td>245</td>\n",
              "      <td>2022-08-25</td>\n",
              "      <td>작은방도 꿈꿀 수 있어! 빈티지 소품으로 맥시멀하게</td>\n",
              "      <td>부모님과 함께 사는 집</td>\n",
              "      <td>기타</td>\n",
              "      <td>35</td>\n",
              "      <td>빈티지&amp;레트로</td>\n",
              "      <td>0</td>\n",
              "      <td>홈스타일링</td>\n",
              "      <td>셀프•DIY</td>\n",
              "      <td>0</td>\n",
              "      <td>20782</td>\n",
              "      <td>1390</td>\n",
              "      <td>215</td>\n",
              "      <td>37</td>\n",
              "      <td>https://ohou.se/projects/116348/detail?affect_...</td>\n",
              "    </tr>\n",
              "    <tr>\n",
              "      <th>...</th>\n",
              "      <td>...</td>\n",
              "      <td>...</td>\n",
              "      <td>...</td>\n",
              "      <td>...</td>\n",
              "      <td>...</td>\n",
              "      <td>...</td>\n",
              "      <td>...</td>\n",
              "      <td>...</td>\n",
              "      <td>...</td>\n",
              "      <td>...</td>\n",
              "      <td>...</td>\n",
              "      <td>...</td>\n",
              "      <td>...</td>\n",
              "      <td>...</td>\n",
              "      <td>...</td>\n",
              "      <td>...</td>\n",
              "    </tr>\n",
              "    <tr>\n",
              "      <th>4830</th>\n",
              "      <td>4830</td>\n",
              "      <td>2019-11-16</td>\n",
              "      <td>손재주꾼 맥시멀리스트의 근교 시골살이</td>\n",
              "      <td>부모님과 함께 사는 집</td>\n",
              "      <td>단독주택</td>\n",
              "      <td>55</td>\n",
              "      <td>내추럴</td>\n",
              "      <td>0</td>\n",
              "      <td>건축</td>\n",
              "      <td>반셀프</td>\n",
              "      <td>0</td>\n",
              "      <td>40752</td>\n",
              "      <td>575</td>\n",
              "      <td>353</td>\n",
              "      <td>49</td>\n",
              "      <td>https://ohou.se/projects/17069/detail?affect_t...</td>\n",
              "    </tr>\n",
              "    <tr>\n",
              "      <th>4835</th>\n",
              "      <td>4835</td>\n",
              "      <td>2019-11-14</td>\n",
              "      <td>외할머니를 닮은 집엔 손녀를 꼭 빼닮은 방이 있어요</td>\n",
              "      <td>부모님과 함께 사는 집, 기타</td>\n",
              "      <td>단독주택</td>\n",
              "      <td>65</td>\n",
              "      <td>내추럴, 빈티지&amp;레트로</td>\n",
              "      <td>0</td>\n",
              "      <td>리모델링</td>\n",
              "      <td>반셀프</td>\n",
              "      <td>700</td>\n",
              "      <td>38878</td>\n",
              "      <td>847</td>\n",
              "      <td>472</td>\n",
              "      <td>64</td>\n",
              "      <td>https://ohou.se/projects/18172/detail?affect_t...</td>\n",
              "    </tr>\n",
              "    <tr>\n",
              "      <th>4840</th>\n",
              "      <td>4840</td>\n",
              "      <td>2019-11-13</td>\n",
              "      <td>완벽하진 않지만 나만의 감성이 느껴지는 방을 만들었어요</td>\n",
              "      <td>부모님과 함께 사는 집</td>\n",
              "      <td>아파트</td>\n",
              "      <td>35</td>\n",
              "      <td>북유럽</td>\n",
              "      <td>발코니확장</td>\n",
              "      <td>홈스타일링</td>\n",
              "      <td>반셀프</td>\n",
              "      <td>2000</td>\n",
              "      <td>30663</td>\n",
              "      <td>638</td>\n",
              "      <td>187</td>\n",
              "      <td>37</td>\n",
              "      <td>https://ohou.se/projects/18055/detail?affect_t...</td>\n",
              "    </tr>\n",
              "    <tr>\n",
              "      <th>4847</th>\n",
              "      <td>4847</td>\n",
              "      <td>2019-11-11</td>\n",
              "      <td>4년차 신혼부부가 꾸민 숲세권 33평</td>\n",
              "      <td>신혼부부, 부모님과 함께 사는 집</td>\n",
              "      <td>아파트</td>\n",
              "      <td>35</td>\n",
              "      <td>내추럴, 빈티지&amp;레트로, 한국&amp;아시아</td>\n",
              "      <td>중문, 아트월, 발코니확장</td>\n",
              "      <td>홈스타일링</td>\n",
              "      <td>반셀프</td>\n",
              "      <td>800</td>\n",
              "      <td>35057</td>\n",
              "      <td>780</td>\n",
              "      <td>148</td>\n",
              "      <td>9</td>\n",
              "      <td>https://ohou.se/projects/17978/detail?affect_t...</td>\n",
              "    </tr>\n",
              "    <tr>\n",
              "      <th>4863</th>\n",
              "      <td>4863</td>\n",
              "      <td>2019-11-06</td>\n",
              "      <td>오늘의 홈카페 | nok2da님</td>\n",
              "      <td>부모님과 함께 사는 집</td>\n",
              "      <td>빌라&amp;연립</td>\n",
              "      <td>25</td>\n",
              "      <td>내추럴</td>\n",
              "      <td>0</td>\n",
              "      <td>부분공사</td>\n",
              "      <td>셀프•DIY</td>\n",
              "      <td>0</td>\n",
              "      <td>13997</td>\n",
              "      <td>288</td>\n",
              "      <td>84</td>\n",
              "      <td>11</td>\n",
              "      <td>https://ohou.se/projects/18167/detail?affect_t...</td>\n",
              "    </tr>\n",
              "  </tbody>\n",
              "</table>\n",
              "<p>216 rows × 16 columns</p>\n",
              "</div>\n",
              "      <button class=\"colab-df-convert\" onclick=\"convertToInteractive('df-d73c0426-6f02-48bc-9a8a-111fd7bb1e8e')\"\n",
              "              title=\"Convert this dataframe to an interactive table.\"\n",
              "              style=\"display:none;\">\n",
              "        \n",
              "  <svg xmlns=\"http://www.w3.org/2000/svg\" height=\"24px\"viewBox=\"0 0 24 24\"\n",
              "       width=\"24px\">\n",
              "    <path d=\"M0 0h24v24H0V0z\" fill=\"none\"/>\n",
              "    <path d=\"M18.56 5.44l.94 2.06.94-2.06 2.06-.94-2.06-.94-.94-2.06-.94 2.06-2.06.94zm-11 1L8.5 8.5l.94-2.06 2.06-.94-2.06-.94L8.5 2.5l-.94 2.06-2.06.94zm10 10l.94 2.06.94-2.06 2.06-.94-2.06-.94-.94-2.06-.94 2.06-2.06.94z\"/><path d=\"M17.41 7.96l-1.37-1.37c-.4-.4-.92-.59-1.43-.59-.52 0-1.04.2-1.43.59L10.3 9.45l-7.72 7.72c-.78.78-.78 2.05 0 2.83L4 21.41c.39.39.9.59 1.41.59.51 0 1.02-.2 1.41-.59l7.78-7.78 2.81-2.81c.8-.78.8-2.07 0-2.86zM5.41 20L4 18.59l7.72-7.72 1.47 1.35L5.41 20z\"/>\n",
              "  </svg>\n",
              "      </button>\n",
              "      \n",
              "  <style>\n",
              "    .colab-df-container {\n",
              "      display:flex;\n",
              "      flex-wrap:wrap;\n",
              "      gap: 12px;\n",
              "    }\n",
              "\n",
              "    .colab-df-convert {\n",
              "      background-color: #E8F0FE;\n",
              "      border: none;\n",
              "      border-radius: 50%;\n",
              "      cursor: pointer;\n",
              "      display: none;\n",
              "      fill: #1967D2;\n",
              "      height: 32px;\n",
              "      padding: 0 0 0 0;\n",
              "      width: 32px;\n",
              "    }\n",
              "\n",
              "    .colab-df-convert:hover {\n",
              "      background-color: #E2EBFA;\n",
              "      box-shadow: 0px 1px 2px rgba(60, 64, 67, 0.3), 0px 1px 3px 1px rgba(60, 64, 67, 0.15);\n",
              "      fill: #174EA6;\n",
              "    }\n",
              "\n",
              "    [theme=dark] .colab-df-convert {\n",
              "      background-color: #3B4455;\n",
              "      fill: #D2E3FC;\n",
              "    }\n",
              "\n",
              "    [theme=dark] .colab-df-convert:hover {\n",
              "      background-color: #434B5C;\n",
              "      box-shadow: 0px 1px 3px 1px rgba(0, 0, 0, 0.15);\n",
              "      filter: drop-shadow(0px 1px 2px rgba(0, 0, 0, 0.3));\n",
              "      fill: #FFFFFF;\n",
              "    }\n",
              "  </style>\n",
              "\n",
              "      <script>\n",
              "        const buttonEl =\n",
              "          document.querySelector('#df-d73c0426-6f02-48bc-9a8a-111fd7bb1e8e button.colab-df-convert');\n",
              "        buttonEl.style.display =\n",
              "          google.colab.kernel.accessAllowed ? 'block' : 'none';\n",
              "\n",
              "        async function convertToInteractive(key) {\n",
              "          const element = document.querySelector('#df-d73c0426-6f02-48bc-9a8a-111fd7bb1e8e');\n",
              "          const dataTable =\n",
              "            await google.colab.kernel.invokeFunction('convertToInteractive',\n",
              "                                                     [key], {});\n",
              "          if (!dataTable) return;\n",
              "\n",
              "          const docLinkHtml = 'Like what you see? Visit the ' +\n",
              "            '<a target=\"_blank\" href=https://colab.research.google.com/notebooks/data_table.ipynb>data table notebook</a>'\n",
              "            + ' to learn more about interactive tables.';\n",
              "          element.innerHTML = '';\n",
              "          dataTable['output_type'] = 'display_data';\n",
              "          await google.colab.output.renderOutput(dataTable, element);\n",
              "          const docLink = document.createElement('div');\n",
              "          docLink.innerHTML = docLinkHtml;\n",
              "          element.appendChild(docLink);\n",
              "        }\n",
              "      </script>\n",
              "    </div>\n",
              "  </div>\n",
              "  "
            ],
            "text/plain": [
              "        id         작성일                              제목                가족형태  \\\n",
              "13      13  2022-10-07           모노톤 방안에 담긴 나만의 작은 변화들        부모님과 함께 사는 집   \n",
              "43      43  2022-10-01      취향 가득 초록 숲을 꿈꾸는 디자이너의 작은 방        부모님과 함께 사는 집   \n",
              "62      62  2022-10-01  눈높이는 낮추고, 구조도 바꾸고! 동식물과 함께하는 방        부모님과 함께 사는 집   \n",
              "156    156  2022-09-11   온전히 쉴 수 있는 나만의 공간 (feat. 패브릭)        부모님과 함께 사는 집   \n",
              "245    245  2022-08-25    작은방도 꿈꿀 수 있어! 빈티지 소품으로 맥시멀하게        부모님과 함께 사는 집   \n",
              "...    ...         ...                             ...                 ...   \n",
              "4830  4830  2019-11-16            손재주꾼 맥시멀리스트의 근교 시골살이        부모님과 함께 사는 집   \n",
              "4835  4835  2019-11-14    외할머니를 닮은 집엔 손녀를 꼭 빼닮은 방이 있어요    부모님과 함께 사는 집, 기타   \n",
              "4840  4840  2019-11-13  완벽하진 않지만 나만의 감성이 느껴지는 방을 만들었어요        부모님과 함께 사는 집   \n",
              "4847  4847  2019-11-11            4년차 신혼부부가 꾸민 숲세권 33평  신혼부부, 부모님과 함께 사는 집   \n",
              "4863  4863  2019-11-06               오늘의 홈카페 | nok2da님        부모님과 함께 사는 집   \n",
              "\n",
              "         공간  평수구간                   스타일            세부공사     분야      작업    예산  \\\n",
              "13       기타    35                    모던               0  홈스타일링  셀프•DIY   500   \n",
              "43     단독주택    35                     0               0  홈스타일링  셀프•DIY   100   \n",
              "62       기타    55                   내추럴               0  홈스타일링  셀프•DIY     0   \n",
              "156      기타    45               빈티지&레트로               0  홈스타일링  셀프•DIY     0   \n",
              "245      기타    35               빈티지&레트로               0  홈스타일링  셀프•DIY     0   \n",
              "...     ...   ...                   ...             ...    ...     ...   ...   \n",
              "4830   단독주택    55                   내추럴               0     건축     반셀프     0   \n",
              "4835   단독주택    65          내추럴, 빈티지&레트로               0   리모델링     반셀프   700   \n",
              "4840    아파트    35                   북유럽           발코니확장  홈스타일링     반셀프  2000   \n",
              "4847    아파트    35  내추럴, 빈티지&레트로, 한국&아시아  중문, 아트월, 발코니확장  홈스타일링     반셀프   800   \n",
              "4863  빌라&연립    25                   내추럴               0   부분공사  셀프•DIY     0   \n",
              "\n",
              "         조회   스크랩  좋아요  댓글                                                url  \n",
              "13     7527   405   84  24  https://ohou.se/projects/126370/detail?affect_...  \n",
              "43     7687   487   77  20  https://ohou.se/projects/125835/detail?affect_...  \n",
              "62     5672   252   53   4  https://ohou.se/projects/117749/detail?affect_...  \n",
              "156    8189   173   33  20  https://ohou.se/projects/121689/detail?affect_...  \n",
              "245   20782  1390  215  37  https://ohou.se/projects/116348/detail?affect_...  \n",
              "...     ...   ...  ...  ..                                                ...  \n",
              "4830  40752   575  353  49  https://ohou.se/projects/17069/detail?affect_t...  \n",
              "4835  38878   847  472  64  https://ohou.se/projects/18172/detail?affect_t...  \n",
              "4840  30663   638  187  37  https://ohou.se/projects/18055/detail?affect_t...  \n",
              "4847  35057   780  148   9  https://ohou.se/projects/17978/detail?affect_t...  \n",
              "4863  13997   288   84  11  https://ohou.se/projects/18167/detail?affect_t...  \n",
              "\n",
              "[216 rows x 16 columns]"
            ]
          },
          "execution_count": 251,
          "metadata": {},
          "output_type": "execute_result"
        }
      ],
      "source": [
        "df_check = df.iloc[check_idxs]\n",
        "df_check"
      ]
    },
    {
      "cell_type": "code",
      "execution_count": 252,
      "metadata": {
        "colab": {
          "base_uri": "https://localhost:8080/"
        },
        "id": "FMSuzED9-cAS",
        "outputId": "d837a8cb-648d-4530-f349-669469b7e715"
      },
      "outputs": [
        {
          "name": "stdout",
          "output_type": "stream",
          "text": [
            "137\n"
          ]
        }
      ],
      "source": [
        "# 제목에 방이 들어간 집들이는 방 한칸만 꾸몄을 것. 그걸 제외한 집들이를 둘러보자\n",
        "idxs = []\n",
        "for idx, title in enumerate(list(df_check['제목'])):\n",
        "  if '방' in title:\n",
        "    continue\n",
        "  idxs.append(idx)\n",
        "print(len(idxs))"
      ]
    },
    {
      "cell_type": "code",
      "execution_count": 253,
      "metadata": {
        "colab": {
          "base_uri": "https://localhost:8080/"
        },
        "id": "K6021A6u-h37",
        "outputId": "3197b1c2-bb0c-4826-fbce-b41c4bea8a28"
      },
      "outputs": [
        {
          "data": {
            "text/plain": [
              "156     https://ohou.se/projects/121689/detail?affect_...\n",
              "381     https://ohou.se/projects/108667/detail?affect_...\n",
              "382     https://ohou.se/projects/111169/detail?affect_...\n",
              "392     https://ohou.se/projects/112544/detail?affect_...\n",
              "447     https://ohou.se/projects/110611/detail?affect_...\n",
              "                              ...                        \n",
              "4778    https://ohou.se/projects/18063/detail?affect_t...\n",
              "4804    https://ohou.se/projects/17410/detail?affect_t...\n",
              "4830    https://ohou.se/projects/17069/detail?affect_t...\n",
              "4847    https://ohou.se/projects/17978/detail?affect_t...\n",
              "4863    https://ohou.se/projects/18167/detail?affect_t...\n",
              "Name: url, Length: 137, dtype: object"
            ]
          },
          "execution_count": 253,
          "metadata": {},
          "output_type": "execute_result"
        }
      ],
      "source": [
        "df_check.iloc[idxs]['url']"
      ]
    },
    {
      "cell_type": "markdown",
      "metadata": {
        "id": "4vHWfMHgOyre"
      },
      "source": [
        "# 가족형태에서 '기타'와 중복선택 되어 있는 경우 기타는 삭제해주기"
      ]
    },
    {
      "cell_type": "code",
      "execution_count": 254,
      "metadata": {
        "id": "TT4YLTCdFEAT"
      },
      "outputs": [],
      "source": [
        "for idx in df.index:\n",
        "  if ', 기타' in df['가족형태'][idx]:\n",
        "    df['가족형태'][idx] = df['가족형태'][idx].replace(', 기타', '')"
      ]
    },
    {
      "cell_type": "code",
      "execution_count": 255,
      "metadata": {
        "colab": {
          "base_uri": "https://localhost:8080/"
        },
        "id": "AzAXKnODPOZ6",
        "outputId": "75513052-565b-4492-8ac6-216f8d5d6f86"
      },
      "outputs": [
        {
          "data": {
            "text/plain": [
              "신혼부부                                   1955\n",
              "싱글라이프                                   971\n",
              "아기가 있는 집                                727\n",
              "취학 자녀가 있는 집                             564\n",
              "부모님과 함께 사는 집                            341\n",
              "기타                                      250\n",
              "신혼부부, 아기가 있는 집                           44\n",
              "아기가 있는 집, 취학 자녀가 있는 집                    33\n",
              "취학 자녀가 있는 집, 부모님과 함께 사는 집                 5\n",
              "싱글라이프, 부모님과 함께 사는 집                       4\n",
              "신혼부부, 부모님과 함께 사는 집                        2\n",
              "아기가 있는 집, 부모님과 함께 사는 집                    2\n",
              "싱글라이프, 신혼부부                               1\n",
              "아기가 있는 집, 취학 자녀가 있는 집, 부모님과 함께 사는 집       1\n",
              "Name: 가족형태, dtype: int64"
            ]
          },
          "execution_count": 255,
          "metadata": {},
          "output_type": "execute_result"
        }
      ],
      "source": [
        "df['가족형태'].value_counts()"
      ]
    },
    {
      "cell_type": "code",
      "execution_count": 256,
      "metadata": {
        "id": "DQE1M78wPRi5"
      },
      "outputs": [],
      "source": [
        "# 신혼부부, 아기가 있는 집                          -> 아기가 있는 집\n",
        "# 아기가 있는 집, 취학 자녀가 있는 집                 -> 취학 자녀가 있는 집\n",
        "# 취학 자녀가 있는 집, 부모님과 함께 사는 집                 5\n",
        "# 싱글라이프, 부모님과 함께 사는 집                       4\n",
        "# 신혼부부, 부모님과 함께 사는 집                        2\n",
        "# 아기가 있는 집, 부모님과 함께 사는 집                    2\n",
        "# 싱글라이프, 신혼부부                               1\n",
        "# 아기가 있는 집, 취학 자녀가 있는 집, 부모님과 함께 사는 집       1"
      ]
    },
    {
      "cell_type": "code",
      "execution_count": 257,
      "metadata": {
        "id": "5GKHtgCuS6O8"
      },
      "outputs": [],
      "source": [
        "for idx in df.index:\n",
        "  if df['가족형태'][idx] == '신혼부부, 아기가 있는 집':\n",
        "    df['가족형태'][idx] = '아기가 있는 집'\n",
        "  elif df['가족형태'][idx] == '아기가 있는 집, 취학 자녀가 있는 집':\n",
        "    df['가족형태'][idx] = '취학 자녀가 있는 집'"
      ]
    },
    {
      "cell_type": "code",
      "execution_count": 258,
      "metadata": {
        "colab": {
          "base_uri": "https://localhost:8080/"
        },
        "id": "U13eBdRwTFWF",
        "outputId": "1b0539e3-df28-4724-a940-4512fd32e953"
      },
      "outputs": [
        {
          "data": {
            "text/plain": [
              "신혼부부                                   1955\n",
              "싱글라이프                                   971\n",
              "아기가 있는 집                                771\n",
              "취학 자녀가 있는 집                             597\n",
              "부모님과 함께 사는 집                            341\n",
              "기타                                      250\n",
              "취학 자녀가 있는 집, 부모님과 함께 사는 집                 5\n",
              "싱글라이프, 부모님과 함께 사는 집                       4\n",
              "신혼부부, 부모님과 함께 사는 집                        2\n",
              "아기가 있는 집, 부모님과 함께 사는 집                    2\n",
              "싱글라이프, 신혼부부                               1\n",
              "아기가 있는 집, 취학 자녀가 있는 집, 부모님과 함께 사는 집       1\n",
              "Name: 가족형태, dtype: int64"
            ]
          },
          "execution_count": 258,
          "metadata": {},
          "output_type": "execute_result"
        }
      ],
      "source": [
        "df['가족형태'].value_counts()"
      ]
    },
    {
      "cell_type": "markdown",
      "metadata": {
        "id": "pYdr2i5E-13w"
      },
      "source": [
        "# 가족형태에 따른 인테리어 스타일 변화"
      ]
    },
    {
      "cell_type": "code",
      "execution_count": 259,
      "metadata": {
        "colab": {
          "base_uri": "https://localhost:8080/"
        },
        "id": "Bjn1xinn-1R9",
        "outputId": "acb18e2e-c34d-4038-edd6-e7ffcbbef393"
      },
      "outputs": [
        {
          "data": {
            "text/plain": [
              "array(['아기가 있는 집', '신혼부부', '부모님과 함께 사는 집', '싱글라이프', '기타', '취학 자녀가 있는 집',\n",
              "       '취학 자녀가 있는 집, 부모님과 함께 사는 집', '싱글라이프, 부모님과 함께 사는 집', '싱글라이프, 신혼부부',\n",
              "       '아기가 있는 집, 취학 자녀가 있는 집, 부모님과 함께 사는 집', '신혼부부, 부모님과 함께 사는 집',\n",
              "       '아기가 있는 집, 부모님과 함께 사는 집'], dtype=object)"
            ]
          },
          "execution_count": 259,
          "metadata": {},
          "output_type": "execute_result"
        }
      ],
      "source": [
        "# 가족형태에는 어떤 값들이 들어가 있는지 확인\n",
        "df['가족형태'].unique()"
      ]
    },
    {
      "cell_type": "code",
      "execution_count": null,
      "metadata": {
        "id": "pugKTsBiYjT-"
      },
      "outputs": [],
      "source": [
        "df_grp = df.groupby(['가족형태', '스타일']).agg({'count'})['id']\n",
        "df_grp"
      ]
    },
    {
      "cell_type": "code",
      "execution_count": null,
      "metadata": {
        "id": "P6zvysUKY1vk"
      },
      "outputs": [],
      "source": [
        "# groupby로 확인\n",
        "df_grp = df_grp['count'].groupby('가족형태', group_keys = False).apply(lambda x: x.sort_values(ascending=False).head(11))\n",
        "df_grp"
      ]
    },
    {
      "cell_type": "code",
      "execution_count": 262,
      "metadata": {
        "colab": {
          "base_uri": "https://localhost:8080/"
        },
        "id": "P-791g89aAPY",
        "outputId": "c2d19580-889e-4f4b-a70f-b3e9453b7ba2"
      },
      "outputs": [
        {
          "data": {
            "text/plain": [
              "내추럴                202\n",
              "0                  179\n",
              "모던                 143\n",
              "빈티지&레트로             66\n",
              "내추럴, 빈티지&레트로        49\n",
              "유니크&믹스매치            41\n",
              "미니멀&심플              31\n",
              "미니멀&심플, 내추럴         29\n",
              "모던, 미니멀&심플, 내추럴     21\n",
              "모던, 미니멀&심플          15\n",
              "모던, 내추럴             15\n",
              "Name: 스타일, dtype: int64"
            ]
          },
          "execution_count": 262,
          "metadata": {},
          "output_type": "execute_result"
        }
      ],
      "source": [
        "# 가족형태에 싱글이 들어간 집들이의 스타일 파악\n",
        "\n",
        "single_idx = []\n",
        "for i in df.index:\n",
        "  if '싱글' in df['가족형태'][i]:\n",
        "    single_idx.append(i)\n",
        "df.loc[single_idx]['스타일'].value_counts().head(11)"
      ]
    },
    {
      "cell_type": "code",
      "execution_count": 263,
      "metadata": {
        "colab": {
          "base_uri": "https://localhost:8080/"
        },
        "id": "h0or5MEVvCXc",
        "outputId": "774a45d4-dcad-48f1-d5ba-0b959c079127"
      },
      "outputs": [
        {
          "data": {
            "text/plain": [
              "{'내추럴': 399, '모던': 242, '빈티지&레트로': 183, '유니크&믹스매치': 85, '미니멀&심플': 142}"
            ]
          },
          "execution_count": 263,
          "metadata": {},
          "output_type": "execute_result"
        }
      ],
      "source": [
        "style_dic = {'내추럴' : 0, \n",
        "             '모던' : 0, \n",
        "             '빈티지&레트로' : 0,\n",
        "             '유니크&믹스매치' : 0, \n",
        "             '미니멀&심플' : 0}\n",
        "for style1 in style_dic.keys():\n",
        "  for style2 in df.loc[single_idx]['스타일'].value_counts().index:\n",
        "    if style1 in style2:\n",
        "      style_dic[style1] += df.loc[single_idx]['스타일'].value_counts()[style2]\n",
        "style_dic"
      ]
    },
    {
      "cell_type": "markdown",
      "metadata": {
        "id": "q7UTl-D2c5Wf"
      },
      "source": [
        "내추럴 > 모던 > 빈티지&레트로 > 미니멀&심플 > 유니크&믹스매치"
      ]
    },
    {
      "cell_type": "code",
      "execution_count": 264,
      "metadata": {
        "colab": {
          "base_uri": "https://localhost:8080/"
        },
        "id": "A7v4d7klAC4I",
        "outputId": "0400b7dd-c508-4f27-c4ed-0f2d701a2c2c"
      },
      "outputs": [
        {
          "data": {
            "text/plain": [
              "내추럴                570\n",
              "모던                 310\n",
              "0                  270\n",
              "미니멀&심플, 내추럴        113\n",
              "미니멀&심플              95\n",
              "모던, 미니멀&심플          69\n",
              "모던, 미니멀&심플, 내추럴     60\n",
              "빈티지&레트로             45\n",
              "모던, 내추럴             42\n",
              "내추럴, 빈티지&레트로        39\n",
              "유니크&믹스매치            23\n",
              "Name: 스타일, dtype: int64"
            ]
          },
          "execution_count": 264,
          "metadata": {},
          "output_type": "execute_result"
        }
      ],
      "source": [
        "# 신혼부부\n",
        "single_idx = []\n",
        "for i in df.index:\n",
        "  if '신혼부부' in df['가족형태'][i]:\n",
        "    single_idx.append(i)\n",
        "\n",
        "df.loc[single_idx]['스타일'].value_counts().head(11)"
      ]
    },
    {
      "cell_type": "code",
      "execution_count": 265,
      "metadata": {
        "colab": {
          "base_uri": "https://localhost:8080/"
        },
        "id": "dgNuu9mcvXlJ",
        "outputId": "5fc6ac0a-8b5a-4cdd-d6a5-9ab11b2ab828"
      },
      "outputs": [
        {
          "data": {
            "text/plain": [
              "{'내추럴': 969, '모던': 590, '빈티지&레트로': 187, '유니크&믹스매치': 82, '미니멀&심플': 435}"
            ]
          },
          "execution_count": 265,
          "metadata": {},
          "output_type": "execute_result"
        }
      ],
      "source": [
        "style_dic = {'내추럴' : 0, \n",
        "             '모던' : 0, \n",
        "             '빈티지&레트로' : 0,\n",
        "             '유니크&믹스매치' : 0, \n",
        "             '미니멀&심플' : 0}\n",
        "for style1 in style_dic.keys():\n",
        "  for style2 in df.loc[single_idx]['스타일'].value_counts().index:\n",
        "    if style1 in style2:\n",
        "      style_dic[style1] += df.loc[single_idx]['스타일'].value_counts()[style2]\n",
        "style_dic"
      ]
    },
    {
      "cell_type": "markdown",
      "metadata": {
        "id": "D8wuRCnsdBaT"
      },
      "source": [
        "내추럴 > 모던 > 미니멀&심플 > 빈티지&레트로 > 유니크&믹스매치"
      ]
    },
    {
      "cell_type": "code",
      "execution_count": 266,
      "metadata": {
        "colab": {
          "base_uri": "https://localhost:8080/"
        },
        "id": "hsRCfqbKAFiO",
        "outputId": "3a814940-5a9e-4876-8803-4180b0049510"
      },
      "outputs": [
        {
          "data": {
            "text/plain": [
              "내추럴                239\n",
              "모던                 113\n",
              "0                   76\n",
              "미니멀&심플              62\n",
              "미니멀&심플, 내추럴         51\n",
              "모던, 미니멀&심플          37\n",
              "모던, 내추럴             30\n",
              "모던, 미니멀&심플, 내추럴     26\n",
              "유니크&믹스매치            12\n",
              "빈티지&레트로             12\n",
              "내추럴, 빈티지&레트로         9\n",
              "Name: 스타일, dtype: int64"
            ]
          },
          "execution_count": 266,
          "metadata": {},
          "output_type": "execute_result"
        }
      ],
      "source": [
        "# 아기가 있는 집\n",
        "single_idx = []\n",
        "for i in df.index:\n",
        "  if '아기' in df['가족형태'][i]:\n",
        "    single_idx.append(i)\n",
        "\n",
        "df.loc[single_idx]['스타일'].value_counts().head(11)"
      ]
    },
    {
      "cell_type": "code",
      "execution_count": 267,
      "metadata": {
        "colab": {
          "base_uri": "https://localhost:8080/"
        },
        "id": "cIiiMrxkvY7g",
        "outputId": "6dc2c4d4-526b-403c-d493-bc79ca2019cb"
      },
      "outputs": [
        {
          "data": {
            "text/plain": [
              "{'내추럴': 414, '모던': 249, '빈티지&레트로': 50, '유니크&믹스매치': 27, '미니멀&심플': 209}"
            ]
          },
          "execution_count": 267,
          "metadata": {},
          "output_type": "execute_result"
        }
      ],
      "source": [
        "style_dic = {'내추럴' : 0, \n",
        "             '모던' : 0, \n",
        "             '빈티지&레트로' : 0,\n",
        "             '유니크&믹스매치' : 0, \n",
        "             '미니멀&심플' : 0}\n",
        "for style1 in style_dic.keys():\n",
        "  for style2 in df.loc[single_idx]['스타일'].value_counts().index:\n",
        "    if style1 in style2:\n",
        "      style_dic[style1] += df.loc[single_idx]['스타일'].value_counts()[style2]\n",
        "\n",
        "style_dic"
      ]
    },
    {
      "cell_type": "markdown",
      "metadata": {
        "id": "G4VDT9RkdGsm"
      },
      "source": [
        "내추럴 > 모던 > 미니멀&심플 > 빈티지&레트로 > 유니크&믹스매치"
      ]
    },
    {
      "cell_type": "code",
      "execution_count": 268,
      "metadata": {
        "colab": {
          "base_uri": "https://localhost:8080/"
        },
        "id": "oQhkPo5uAJJO",
        "outputId": "66aeeaf2-1240-449f-d1d9-a392abf11339"
      },
      "outputs": [
        {
          "data": {
            "text/plain": [
              "내추럴             172\n",
              "모던              115\n",
              "0                84\n",
              "미니멀&심플           31\n",
              "모던, 미니멀&심플       29\n",
              "미니멀&심플, 내추럴      27\n",
              "모던, 내추럴          12\n",
              "북유럽              11\n",
              "빈티지&레트로          11\n",
              "유니크&믹스매치         11\n",
              "내추럴, 빈티지&레트로      9\n",
              "Name: 스타일, dtype: int64"
            ]
          },
          "execution_count": 268,
          "metadata": {},
          "output_type": "execute_result"
        }
      ],
      "source": [
        "# 취학 자녀가 있는 집\n",
        "single_idx = []\n",
        "for i in df.index:\n",
        "  if '취학' in df['가족형태'][i]:\n",
        "    single_idx.append(i)\n",
        "\n",
        "df.loc[single_idx]['스타일'].value_counts().head(11)"
      ]
    },
    {
      "cell_type": "code",
      "execution_count": 269,
      "metadata": {
        "colab": {
          "base_uri": "https://localhost:8080/"
        },
        "id": "iOSX3nEuvasr",
        "outputId": "a4a4e83f-9887-41c5-ad91-2fd2c36250c6"
      },
      "outputs": [
        {
          "data": {
            "text/plain": [
              "{'내추럴': 265,\n",
              " '모던': 189,\n",
              " '빈티지&레트로': 39,\n",
              " '유니크&믹스매치': 27,\n",
              " '미니멀&심플': 115,\n",
              " '북유럽': 41}"
            ]
          },
          "execution_count": 269,
          "metadata": {},
          "output_type": "execute_result"
        }
      ],
      "source": [
        "style_dic = {'내추럴' : 0, \n",
        "             '모던' : 0, \n",
        "             '빈티지&레트로' : 0,\n",
        "             '유니크&믹스매치' : 0, \n",
        "             '미니멀&심플' : 0,\n",
        "             '북유럽' : 0}\n",
        "for style1 in style_dic.keys():\n",
        "  for style2 in df.loc[single_idx]['스타일'].value_counts().index:\n",
        "    if style1 in style2:\n",
        "      style_dic[style1] += df.loc[single_idx]['스타일'].value_counts()[style2]\n",
        "\n",
        "style_dic"
      ]
    },
    {
      "cell_type": "markdown",
      "metadata": {
        "id": "_jqb4xrSdNqD"
      },
      "source": [
        "내추럴 > 모던 > 미니멀&심플 > 북유럽 > 빈티지&레트로 > 유니크&믹스매치"
      ]
    },
    {
      "cell_type": "code",
      "execution_count": 270,
      "metadata": {
        "colab": {
          "base_uri": "https://localhost:8080/"
        },
        "id": "4U730C1BAKbS",
        "outputId": "287e683f-4a35-42b9-e8ff-ec16b5eea49b"
      },
      "outputs": [
        {
          "data": {
            "text/plain": [
              "내추럴                67\n",
              "0                  65\n",
              "모던                 46\n",
              "빈티지&레트로            30\n",
              "유니크&믹스매치           17\n",
              "내추럴, 빈티지&레트로       16\n",
              "러블리&로맨틱            12\n",
              "모던, 미니멀&심플, 내추럴     8\n",
              "북유럽                 7\n",
              "미니멀&심플              7\n",
              "내추럴, 북유럽            6\n",
              "Name: 스타일, dtype: int64"
            ]
          },
          "execution_count": 270,
          "metadata": {},
          "output_type": "execute_result"
        }
      ],
      "source": [
        "# 부모님과 함께 사는 집\n",
        "single_idx = []\n",
        "for i in df.index:\n",
        "  if '부모' in df['가족형태'][i]:\n",
        "    single_idx.append(i)\n",
        "\n",
        "df.loc[single_idx]['스타일'].value_counts().head(11)"
      ]
    },
    {
      "cell_type": "code",
      "execution_count": 271,
      "metadata": {
        "colab": {
          "base_uri": "https://localhost:8080/"
        },
        "id": "eKr4ieNOvb01",
        "outputId": "7bf7476a-83ad-46b6-f4d6-bf4b6c125706"
      },
      "outputs": [
        {
          "data": {
            "text/plain": [
              "{'내추럴': 134, '모던': 82, '빈티지&레트로': 65, '유니크&믹스매치': 24, '미니멀&심플': 36, '북유럽': 20}"
            ]
          },
          "execution_count": 271,
          "metadata": {},
          "output_type": "execute_result"
        }
      ],
      "source": [
        "style_dic = {'내추럴' : 0, \n",
        "             '모던' : 0, \n",
        "             '빈티지&레트로' : 0,\n",
        "             '유니크&믹스매치' : 0, \n",
        "             '미니멀&심플' : 0,\n",
        "             '북유럽' : 0}\n",
        "for style1 in style_dic.keys():\n",
        "  for style2 in df.loc[single_idx]['스타일'].value_counts().index:\n",
        "    if style1 in style2:\n",
        "      style_dic[style1] += df.loc[single_idx]['스타일'].value_counts()[style2]\n",
        "\n",
        "style_dic"
      ]
    },
    {
      "cell_type": "markdown",
      "metadata": {
        "id": "_xsAuVeTA8dE"
      },
      "source": [
        "내추럴 > 모던 > 빈티지&레트로 > 미니멀&심플 > 유니크&믹스매치 > 북유럽\n",
        "\n",
        "-> 부모님과 함께 사는 집은 미니멀 & 심플이 상위에 없다!"
      ]
    },
    {
      "cell_type": "code",
      "execution_count": 272,
      "metadata": {
        "colab": {
          "base_uri": "https://localhost:8080/"
        },
        "id": "yaupHpZLAOnL",
        "outputId": "56337f44-2213-465f-d588-5f333f5c99ac"
      },
      "outputs": [
        {
          "data": {
            "text/plain": [
              "내추럴             78\n",
              "0               42\n",
              "모던              25\n",
              "유니크&믹스매치        22\n",
              "빈티지&레트로         18\n",
              "내추럴, 빈티지&레트로    10\n",
              "모던, 내추럴          7\n",
              "미니멀&심플, 내추럴      5\n",
              "미니멀&심플           5\n",
              "러블리&로맨틱          4\n",
              "북유럽              4\n",
              "Name: 스타일, dtype: int64"
            ]
          },
          "execution_count": 272,
          "metadata": {},
          "output_type": "execute_result"
        }
      ],
      "source": [
        "# 기타\n",
        "single_idx = []\n",
        "for i in df.index:\n",
        "  if '기타' in df['가족형태'][i]:\n",
        "    single_idx.append(i)\n",
        "\n",
        "df.loc[single_idx]['스타일'].value_counts().head(11)"
      ]
    },
    {
      "cell_type": "code",
      "execution_count": 273,
      "metadata": {
        "colab": {
          "base_uri": "https://localhost:8080/"
        },
        "id": "4FdAbwzYvcxv",
        "outputId": "ea502988-b443-48ac-ce6f-33c3d5137a24"
      },
      "outputs": [
        {
          "data": {
            "text/plain": [
              "{'내추럴': 110, '모던': 40, '빈티지&레트로': 36, '유니크&믹스매치': 25, '미니멀&심플': 15, '북유럽': 10}"
            ]
          },
          "execution_count": 273,
          "metadata": {},
          "output_type": "execute_result"
        }
      ],
      "source": [
        "style_dic = {'내추럴' : 0, \n",
        "             '모던' : 0, \n",
        "             '빈티지&레트로' : 0,\n",
        "             '유니크&믹스매치' : 0, \n",
        "             '미니멀&심플' : 0,\n",
        "             '북유럽' : 0}\n",
        "for style1 in style_dic.keys():\n",
        "  for style2 in df.loc[single_idx]['스타일'].value_counts().index:\n",
        "    if style1 in style2:\n",
        "      style_dic[style1] += df.loc[single_idx]['스타일'].value_counts()[style2]\n",
        "style_dic"
      ]
    },
    {
      "cell_type": "markdown",
      "metadata": {
        "id": "3rgPtWzWdhze"
      },
      "source": [
        "내추럴 > 모던 > 빈티지&레트로 > 유니크&믹스매치 > 미니멀&심플 > 북유럽"
      ]
    },
    {
      "cell_type": "markdown",
      "metadata": {
        "id": "eu3fB-kJBEZh"
      },
      "source": [
        "---\n",
        "가족형태롤 구분해서 스타일을 살펴봐도 뚜렷한 특색이 나타나질 않는다.\n",
        "\n",
        "새롭게 군집을 정해서 군집분석을 해보자"
      ]
    },
    {
      "cell_type": "code",
      "execution_count": 274,
      "metadata": {
        "id": "nxQaBTrnCzvF"
      },
      "outputs": [],
      "source": [
        "# !sudo apt-get install -y fonts-nanum\n",
        "# !sudo fc-cache -fv\n",
        "# !rm ~/.cache/matplotlib -rf"
      ]
    },
    {
      "cell_type": "code",
      "execution_count": 275,
      "metadata": {
        "id": "b6rYcgdEDqfH"
      },
      "outputs": [],
      "source": [
        "import matplotlib.pyplot as plt"
      ]
    },
    {
      "cell_type": "code",
      "execution_count": null,
      "metadata": {
        "id": "zqDaBY26Aj7w"
      },
      "outputs": [],
      "source": [
        "import warnings\n",
        "import seaborn as sns\n",
        "\n",
        "warnings.filterwarnings(action='ignore')\n",
        "sns.set(rc = {'figure.figsize':(20, 20)})\n",
        "plt.rc('font', family='NanumBarunGothic') \n",
        "sns.scatterplot(\n",
        "    x = '가족형태',\n",
        "    y = '스타일',\n",
        "    hue = '공간',\n",
        "    data = df\n",
        ")"
      ]
    },
    {
      "cell_type": "code",
      "execution_count": 277,
      "metadata": {
        "id": "X5DuSxmOEsUv"
      },
      "outputs": [],
      "source": [
        "df_dummy = pd.get_dummies(df[['가족형태', '공간', '평수구간', '스타일']])"
      ]
    },
    {
      "cell_type": "code",
      "execution_count": 278,
      "metadata": {
        "id": "jqDK2Z4eCCv8"
      },
      "outputs": [],
      "source": [
        "from sklearn.decomposition import PCA\n",
        "\n",
        "pca = PCA(n_components = 2)\n",
        "pca.fit(df_dummy)\n",
        "\n",
        "pc = pca.transform(df_dummy)"
      ]
    },
    {
      "cell_type": "code",
      "execution_count": 279,
      "metadata": {
        "colab": {
          "base_uri": "https://localhost:8080/",
          "height": 614
        },
        "id": "E6EChik3EdLu",
        "outputId": "a9de204d-124a-4cb9-eab8-4dbc2a31411a"
      },
      "outputs": [
        {
          "data": {
            "text/plain": [
              "<matplotlib.axes._subplots.AxesSubplot at 0x7fac4987dd10>"
            ]
          },
          "execution_count": 279,
          "metadata": {},
          "output_type": "execute_result"
        },
        {
          "data": {
            "image/png": "[encoded data removed]",
            "text/plain": [
              "<Figure size 720x720 with 1 Axes>"
            ]
          },
          "metadata": {},
          "output_type": "display_data"
        }
      ],
      "source": [
        "sns.set(rc = {'figure.figsize':(10, 10)})\n",
        "plt.rc('font', family='NanumBarunGothic') \n",
        "\n",
        "sns.scatterplot(\n",
        "    x = pc[:, 0],\n",
        "    y = pc[:, 1]\n",
        ")"
      ]
    },
    {
      "cell_type": "markdown",
      "metadata": {
        "id": "S2aoF33pQRag"
      },
      "source": [
        "이 부분에 대해서는 더 공부가 필요할 것 같다.\n",
        "\n",
        "결과를 내놓고도 뭔지 잘 모르겠음...\n",
        "\n",
        "그래도 세개의 새로운 군집으로 나눌 수 있지 않을까???"
      ]
    },
    {
      "cell_type": "code",
      "execution_count": 279,
      "metadata": {
        "id": "vDqB8_ydlvIM"
      },
      "outputs": [],
      "source": []
    }
  ],
  "metadata": {
    "colab": {
      "provenance": []
    },
    "kernelspec": {
      "display_name": "Python 3",
      "name": "python3"
    },
    "language_info": {
      "name": "python"
    }
  },
  "nbformat": 4,
  "nbformat_minor": 0
}
